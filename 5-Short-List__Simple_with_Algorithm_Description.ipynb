{
 "cells": [
  {
   "cell_type": "markdown",
   "metadata": {},
   "source": [
    "# Short-List Promising Models\n",
    "___"
   ]
  },
  {
   "cell_type": "markdown",
   "metadata": {},
   "source": [
    " - If the data is huge, you may want to sample smaller training sets so you can train many different models in a reasonable time (be aware that this penalizes complex models such as large neural nets or Random Forests).\n",
    " - Once again, try to automate these steps as much as possible.\n",
    " - Train many quick-and-dirty models from different categories (e.g., linear, naive Bayes, SVM, Random Forest, neural net, etc.) using standard parameters.\n",
    " - Measure and compare their performance.\n",
    " - For each model, use N-fold cross-validation and compute the mean and standard deviation of the performance measure on the N folds.\n",
    " - Analyze the most significant variables for each algorithm.\n",
    " - Analyze the types of errors the models make.\n",
    " - What data would a human have used to avoid these errors?\n",
    " - Perform a quick round of feature selection and engineering.\n",
    " - Perform one or two more quick iterations of the five previous steps.\n",
    " - Shordist the top three to five most promising models, preferring models that make different types of errors."
   ]
  },
  {
   "cell_type": "markdown",
   "metadata": {},
   "source": [
    "---"
   ]
  },
  {
   "cell_type": "code",
   "execution_count": 114,
   "metadata": {},
   "outputs": [],
   "source": [
    "# Import Libraries\n",
    "import pandas as pd\n",
    "import numpy as np\n",
    "\n",
    "from sklearn.model_selection import train_test_split\n",
    "\n",
    "\n",
    "from keras.layers import Add, Activation, Lambda\n",
    "from keras.models import Model\n",
    "from keras.layers import Input, Reshape, Dot\n",
    "from keras.layers.embeddings import Embedding\n",
    "from tensorflow.keras.optimizers import Adam\n",
    "\n",
    "# from keras.optimizers import Adam\n",
    "from keras.regularizers import l2\n",
    "\n",
    "import math\n",
    "\n",
    "\n",
    "# Set printing in non scientific notation\n",
    "np.set_printoptions(suppress=True)\n",
    "\n",
    "# Change label colors of matplotlib\n",
    "import matplotlib as mpl\n",
    "mpl.rcParams['figure.facecolor'] = 'white'"
   ]
  },
  {
   "cell_type": "markdown",
   "metadata": {},
   "source": [
    "Data"
   ]
  },
  {
   "cell_type": "code",
   "execution_count": 115,
   "metadata": {},
   "outputs": [
    {
     "data": {
      "text/html": [
       "<div>\n",
       "<style scoped>\n",
       "    .dataframe tbody tr th:only-of-type {\n",
       "        vertical-align: middle;\n",
       "    }\n",
       "\n",
       "    .dataframe tbody tr th {\n",
       "        vertical-align: top;\n",
       "    }\n",
       "\n",
       "    .dataframe thead th {\n",
       "        text-align: right;\n",
       "    }\n",
       "</style>\n",
       "<table border=\"1\" class=\"dataframe\">\n",
       "  <thead>\n",
       "    <tr style=\"text-align: right;\">\n",
       "      <th></th>\n",
       "      <th>user_id</th>\n",
       "      <th>business_id</th>\n",
       "      <th>stars</th>\n",
       "      <th>date</th>\n",
       "      <th>name</th>\n",
       "      <th>address</th>\n",
       "      <th>user</th>\n",
       "      <th>business</th>\n",
       "    </tr>\n",
       "  </thead>\n",
       "  <tbody>\n",
       "    <tr>\n",
       "      <th>0</th>\n",
       "      <td>nOTl4aPC4tKHK35T3bNauQ</td>\n",
       "      <td>xVEtGucSRLk5pxxN0t4i6g</td>\n",
       "      <td>5.0</td>\n",
       "      <td>2012-08-23</td>\n",
       "      <td>\"Eiffel Tower\"</td>\n",
       "      <td>\"3655 Las Vegas Blvd S\"</td>\n",
       "      <td>4189</td>\n",
       "      <td>1920</td>\n",
       "    </tr>\n",
       "    <tr>\n",
       "      <th>1</th>\n",
       "      <td>l0-VQ8nA_oijpKlRB7dkow</td>\n",
       "      <td>xVEtGucSRLk5pxxN0t4i6g</td>\n",
       "      <td>4.0</td>\n",
       "      <td>2010-02-11</td>\n",
       "      <td>\"Eiffel Tower\"</td>\n",
       "      <td>\"3655 Las Vegas Blvd S\"</td>\n",
       "      <td>3989</td>\n",
       "      <td>1920</td>\n",
       "    </tr>\n",
       "  </tbody>\n",
       "</table>\n",
       "</div>"
      ],
      "text/plain": [
       "                  user_id             business_id  stars        date  \\\n",
       "0  nOTl4aPC4tKHK35T3bNauQ  xVEtGucSRLk5pxxN0t4i6g    5.0  2012-08-23   \n",
       "1  l0-VQ8nA_oijpKlRB7dkow  xVEtGucSRLk5pxxN0t4i6g    4.0  2010-02-11   \n",
       "\n",
       "             name                  address  user  business  \n",
       "0  \"Eiffel Tower\"  \"3655 Las Vegas Blvd S\"  4189      1920  \n",
       "1  \"Eiffel Tower\"  \"3655 Las Vegas Blvd S\"  3989      1920  "
      ]
     },
     "execution_count": 115,
     "metadata": {},
     "output_type": "execute_result"
    }
   ],
   "source": [
    "combined_business_data = pd.read_pickle(\"combined_business_data.pkl\")\n",
    "combined_business_data.head(2)"
   ]
  },
  {
   "cell_type": "code",
   "execution_count": 116,
   "metadata": {},
   "outputs": [
    {
     "name": "stdout",
     "output_type": "stream",
     "text": [
      "5186 2004 1.0 5.0\n"
     ]
    }
   ],
   "source": [
    "# Store counts of distinct users and restaurants into variables\n",
    "n_users = combined_business_data[\"user\"].nunique()\n",
    "n_rests = combined_business_data[\"business\"].nunique()\n",
    "\n",
    "# Store min and max stars into a variable\n",
    "min_rating = min(combined_business_data[\"stars\"])\n",
    "max_rating = max(combined_business_data[\"stars\"])\n",
    "\n",
    "print(n_users, n_rests, min_rating, max_rating)"
   ]
  },
  {
   "cell_type": "code",
   "execution_count": 117,
   "metadata": {},
   "outputs": [
    {
     "name": "stdout",
     "output_type": "stream",
     "text": [
      "(11591, 2) (11591,)\n"
     ]
    }
   ],
   "source": [
    "# Store inputs into variabe X; store Output into variable y\n",
    "X = combined_business_data[[\"user\", \"business\"]].values\n",
    "y = combined_business_data[\"stars\"].values\n",
    "\n",
    "print(X.shape, y.shape)"
   ]
  },
  {
   "cell_type": "markdown",
   "metadata": {},
   "source": [
    "Split"
   ]
  },
  {
   "cell_type": "code",
   "execution_count": 118,
   "metadata": {},
   "outputs": [
    {
     "name": "stdout",
     "output_type": "stream",
     "text": [
      "(9272, 2) (2319, 2) (9272,) (2319,)\n"
     ]
    }
   ],
   "source": [
    "# Split data into Training and Validation set\n",
    "X_train_keras, X_val_keras, y_train_keras, y_val_keras = train_test_split(\n",
    "    X,\n",
    "    y,\n",
    "    test_size=0.2,\n",
    "    random_state=42,\n",
    ")\n",
    "\n",
    "print(X_train_keras.shape, X_val_keras.shape, y_train_keras.shape, y_val_keras.shape)"
   ]
  },
  {
   "cell_type": "code",
   "execution_count": 119,
   "metadata": {},
   "outputs": [],
   "source": [
    "# Storing Users and Restaurant into its own array. They will be input separately into the Keras Model\n",
    "X_train_array = [X_train_keras[:, 0], X_train_keras[:, 1]]\n",
    "X_val_array = [X_val_keras[:, 0], X_val_keras[:, 1]]"
   ]
  },
  {
   "cell_type": "code",
   "execution_count": 120,
   "metadata": {},
   "outputs": [
    {
     "data": {
      "text/plain": [
       "[array([3527, 3494,  763, ..., 4744, 1615, 2416]),\n",
       " array([ 166, 1511, 1972, ...,  480,  870,  918])]"
      ]
     },
     "execution_count": 120,
     "metadata": {},
     "output_type": "execute_result"
    }
   ],
   "source": [
    "X_train_array"
   ]
  },
  {
   "cell_type": "code",
   "execution_count": 121,
   "metadata": {},
   "outputs": [
    {
     "data": {
      "text/plain": [
       "[array([2068, 1672, 1196, ..., 4855, 2335, 4817]),\n",
       " array([ 118, 1293,  235, ...,  291,  974,  788])]"
      ]
     },
     "execution_count": 121,
     "metadata": {},
     "output_type": "execute_result"
    }
   ],
   "source": [
    "X_val_array"
   ]
  },
  {
   "cell_type": "markdown",
   "metadata": {},
   "source": [
    "Choose number of dimensions in embedding space"
   ]
  },
  {
   "cell_type": "code",
   "execution_count": 122,
   "metadata": {},
   "outputs": [],
   "source": [
    "# Variable that stores number of embedding dimension. Will be tuned as hyperparameter later.\n",
    "n_embedding_dim = 2"
   ]
  },
  {
   "cell_type": "markdown",
   "metadata": {},
   "source": [
    "Model"
   ]
  },
  {
   "cell_type": "code",
   "execution_count": 123,
   "metadata": {},
   "outputs": [],
   "source": [
    "class EmbeddingLayer:\n",
    "    '''\n",
    "    Class to create main section of the model, creating embedding layer followed by the reshape layer.\n",
    "    '''\n",
    "    def __init__(self, n_items, n_embedding_dim):\n",
    "        # ^ vocabulary size, number of categories, or here,\n",
    "        # ^ number of distinct users or number of distinct restaurants\n",
    "        self.n_items = n_items\n",
    "\n",
    "        # ^ encode into how many dimensions?\n",
    "        # ^ each item(user/restaurant) will be represented as a vector of size n_embedding_dim\n",
    "        self.n_embedding_dim = n_embedding_dim\n",
    "\n",
    "    def __call__(self, x):\n",
    "        x = Embedding(\n",
    "            input_dim = self.n_items, # number of users/restaurants in a training set\n",
    "            output_dim = self.n_embedding_dim, # how many dimensions should embedding space contain\n",
    "            embeddings_initializer=\"he_normal\", # initializer for initial parameter values at the beggining of training\n",
    "            embeddings_regularizer=l2(1e-6), # regularzation to reduce overfitting\n",
    "        )(x)\n",
    "        x = Reshape((self.n_embedding_dim,))(x)\n",
    "\n",
    "        return x\n",
    "\n",
    "\n",
    "def Recommender(n_users, n_rests, n_embedding_dim, min_rating, max_rating):\n",
    "    user = Input(shape=(1,))\n",
    "    u = EmbeddingLayer(n_users, n_embedding_dim)(user)\n",
    "\n",
    "    restaurant = Input(shape=(1,))\n",
    "    m = EmbeddingLayer(n_rests, n_embedding_dim)(restaurant)\n",
    "\n",
    "    x = Dot(axes=1)([u, m]) # Dot product between vector of user and vector of restaurant\n",
    "    x = Activation(\"sigmoid\")(x)\n",
    "    x = Lambda(lambda x: x * (max_rating - min_rating) + min_rating)(x) # Scaling\n",
    "\n",
    "    model = Model(inputs=[user, restaurant], outputs=x) # Creating the model and specifying input and output\n",
    "    opt = Adam(learning_rate=0.001) # Optimizer algorithm and its learning rate\n",
    "    model.compile(loss=\"mean_squared_error\", optimizer=opt) # compiling model and specifying loss function\n",
    "\n",
    "    return model"
   ]
  },
  {
   "cell_type": "code",
   "execution_count": 124,
   "metadata": {},
   "outputs": [
    {
     "name": "stdout",
     "output_type": "stream",
     "text": [
      "Model: \"model_7\"\n",
      "__________________________________________________________________________________________________\n",
      "Layer (type)                    Output Shape         Param #     Connected to                     \n",
      "==================================================================================================\n",
      "input_15 (InputLayer)           [(None, 1)]          0                                            \n",
      "__________________________________________________________________________________________________\n",
      "input_16 (InputLayer)           [(None, 1)]          0                                            \n",
      "__________________________________________________________________________________________________\n",
      "embedding_23 (Embedding)        (None, 1, 2)         10372       input_15[0][0]                   \n",
      "__________________________________________________________________________________________________\n",
      "embedding_24 (Embedding)        (None, 1, 2)         4008        input_16[0][0]                   \n",
      "__________________________________________________________________________________________________\n",
      "reshape_21 (Reshape)            (None, 2)            0           embedding_23[0][0]               \n",
      "__________________________________________________________________________________________________\n",
      "reshape_22 (Reshape)            (None, 2)            0           embedding_24[0][0]               \n",
      "__________________________________________________________________________________________________\n",
      "dot_7 (Dot)                     (None, 1)            0           reshape_21[0][0]                 \n",
      "                                                                 reshape_22[0][0]                 \n",
      "__________________________________________________________________________________________________\n",
      "activation_7 (Activation)       (None, 1)            0           dot_7[0][0]                      \n",
      "__________________________________________________________________________________________________\n",
      "lambda_7 (Lambda)               (None, 1)            0           activation_7[0][0]               \n",
      "==================================================================================================\n",
      "Total params: 14,380\n",
      "Trainable params: 14,380\n",
      "Non-trainable params: 0\n",
      "__________________________________________________________________________________________________\n"
     ]
    }
   ],
   "source": [
    "keras_model = Recommender(n_users, n_rests, n_embedding_dim, min_rating, max_rating)\n",
    "keras_model.summary()"
   ]
  },
  {
   "cell_type": "code",
   "execution_count": 125,
   "metadata": {},
   "outputs": [
    {
     "data": {
      "image/png": "[encoded data removed]",
      "text/plain": [
       "<IPython.core.display.Image object>"
      ]
     },
     "execution_count": 125,
     "metadata": {},
     "output_type": "execute_result"
    }
   ],
   "source": [
    "# Plot Model\n",
    "from keras.utils.vis_utils import plot_model\n",
    "\n",
    "plot_model(keras_model, show_shapes=True)\n"
   ]
  },
  {
   "cell_type": "markdown",
   "metadata": {},
   "source": [
    " ## Algorithm DESCRIPTION (simplified)\n",
    "- \"None\" in the picture stays for the size of the batch, Lets say batch is 1\n",
    "    -   On first iteration Input is some user number, say 5; and also some restaurant number, say 10\n",
    "    -   User number 5 is changed by Embedding layer to a vector of size 2 (after reshaping); e.g. (1,2);\n",
    "        -   (Why reshaping: Embedding layer outputs a matrix of one row and 2 columns; but we want a vector of size 2)\n",
    "        -   What number will this vector contain will be trained by neural network to achieve best performance (lowest loss function)\n",
    "    -   Restaurant number 10 is changed say to a vector (5,7)\n",
    "<br>\n",
    "<br>\n",
    "    -   Vector of size 2 is DOT MULTIPLIED by vector of size 2; e.g. (1,2) * (5,7) = 1*2 + 2*7 = 2 + 14 = 16\n",
    "    -   16 is input to the sigmoid function which outputs a number between 0 and 1 (see example below), specifically sigmoid(16) = 0.9999998874648379\n",
    "    -   0.9999998874648379 is min max scaled to return 4.999999549859352, which is the prediction that this user 5 gave to the restaurant 10\n",
    "<br>\n",
    "<br>\n",
    "    -   this prediction is compared to the actual rating that this user 5 gave to the restaurant 10, say actually he rated it 4\n",
    "    -   error now is 4.999999549859352 - 4 = 0.999999549859352 (it is also squared to get 0.99999909971)\n",
    "        -   After many iterations all those errors are for all pair of users/restaurant are aggregated to get the mean square error, which is our loss function\n",
    "    -   This loss is used in backpropagation to adjust the embedding vectors in such a way that the loss will be reduced by small amount\n",
    "    -   Repeat iterations by another batch."
   ]
  },
  {
   "cell_type": "code",
   "execution_count": 126,
   "metadata": {},
   "outputs": [
    {
     "data": {
      "text/plain": [
       "0.9999998874648379"
      ]
     },
     "execution_count": 126,
     "metadata": {},
     "output_type": "execute_result"
    }
   ],
   "source": [
    "# Sigmoid Function for provided usage example \n",
    "def sigmoid(x):\n",
    "    return 1 / (1 + math.exp(-x))\n",
    "\n",
    "sigmoid(16)"
   ]
  },
  {
   "cell_type": "code",
   "execution_count": 127,
   "metadata": {},
   "outputs": [
    {
     "data": {
      "text/plain": [
       "4.999999549859352"
      ]
     },
     "execution_count": 127,
     "metadata": {},
     "output_type": "execute_result"
    }
   ],
   "source": [
    "# Min Max scaling for \n",
    "x = 0.9999998874648379\n",
    "x * (max_rating - min_rating) + min_rating"
   ]
  },
  {
   "cell_type": "markdown",
   "metadata": {},
   "source": [
    "Fit / Train"
   ]
  },
  {
   "cell_type": "code",
   "execution_count": 129,
   "metadata": {},
   "outputs": [
    {
     "name": "stdout",
     "output_type": "stream",
     "text": [
      "Epoch 1/20\n",
      "145/145 [==============================] - 4s 25ms/step - loss: 2.4126 - val_loss: 2.4163\n",
      "Epoch 2/20\n",
      "145/145 [==============================] - 4s 27ms/step - loss: 2.3896 - val_loss: 2.4177\n",
      "Epoch 3/20\n",
      "145/145 [==============================] - 4s 25ms/step - loss: 2.3596 - val_loss: 2.4196\n",
      "Epoch 4/20\n",
      "145/145 [==============================] - 4s 29ms/step - loss: 2.3232 - val_loss: 2.4224\n",
      "Epoch 5/20\n",
      "145/145 [==============================] - 5s 35ms/step - loss: 2.2814 - val_loss: 2.4258\n",
      "Epoch 6/20\n",
      "145/145 [==============================] - 4s 28ms/step - loss: 2.2353 - val_loss: 2.4302TA: 1s - loss - ETA: 1s - ETA: 0s - loss: 2.236\n",
      "Epoch 7/20\n",
      "145/145 [==============================] - 4s 29ms/step - loss: 2.1855 - val_loss: 2.4357\n",
      "Epoch 8/20\n",
      "145/145 [==============================] - 5s 34ms/step - loss: 2.1333 - val_loss: 2.4420\n",
      "Epoch 9/20\n",
      "145/145 [==============================] - 5s 32ms/step - loss: 2.0791 - val_loss: 2.4490\n",
      "Epoch 10/20\n",
      "145/145 [==============================] - 4s 30ms/step - loss: 2.0238 - val_loss: 2.4573\n",
      "Epoch 11/20\n",
      "145/145 [==============================] - 5s 35ms/step - loss: 1.9678 - val_loss: 2.4663\n",
      "Epoch 12/20\n",
      "145/145 [==============================] - 5s 33ms/step - loss: 1.9119 - val_loss: 2.4762\n",
      "Epoch 13/20\n",
      "145/145 [==============================] - 10s 67ms/step - loss: 1.8563 - val_loss: 2.4871\n",
      "Epoch 14/20\n",
      "145/145 [==============================] - 4s 30ms/step - loss: 1.8013 - val_loss: 2.4982- E - ETA: 0s - loss:\n",
      "Epoch 15/20\n",
      "145/145 [==============================] - 4s 30ms/step - loss: 1.7474 - val_loss: 2.5105\n",
      "Epoch 16/20\n",
      "145/145 [==============================] - 5s 38ms/step - loss: 1.6945 - val_loss: 2.5230\n",
      "Epoch 17/20\n",
      "145/145 [==============================] - 6s 39ms/step - loss: 1.6431 - val_loss: 2.5356\n",
      "Epoch 18/20\n",
      "145/145 [==============================] - 5s 32ms/step - loss: 1.5931 - val_loss: 2.5493- ETA: 2s - loss: 1. - \n",
      "Epoch 19/20\n",
      "145/145 [==============================] - 3s 19ms/step - loss: 1.5445 - val_loss: 2.5632\n",
      "Epoch 20/20\n",
      "145/145 [==============================] - 5s 36ms/step - loss: 1.4977 - val_loss: 2.5776\n"
     ]
    }
   ],
   "source": [
    "# Fitting the model, choosing batch size, number of epochs, and test data for validation\n",
    "history = keras_model.fit(\n",
    "    x=X_train_array,\n",
    "    y=y_train_keras,\n",
    "    batch_size=64,\n",
    "    epochs=20,\n",
    "    verbose=1,\n",
    "    validation_data=(\n",
    "        X_val_array,\n",
    "        y_val_keras,\n",
    "    ),\n",
    ")"
   ]
  },
  {
   "cell_type": "markdown",
   "metadata": {},
   "source": [
    "Evaluation"
   ]
  },
  {
   "cell_type": "code",
   "execution_count": 130,
   "metadata": {},
   "outputs": [
    {
     "name": "stdout",
     "output_type": "stream",
     "text": [
      "73/73 [==============================] - 1s 15ms/step - loss: 2.5776\n",
      "MSE:\n",
      " 2.5776166915893555\n"
     ]
    }
   ],
   "source": [
    "mse_test = keras_model.evaluate(X_val_array, y_val_keras)\n",
    "print(f\"MSE:\\n {mse_test}\")"
   ]
  },
  {
   "cell_type": "markdown",
   "metadata": {},
   "source": [
    "Prediction"
   ]
  },
  {
   "cell_type": "code",
   "execution_count": 131,
   "metadata": {},
   "outputs": [
    {
     "data": {
      "text/plain": [
       "array([[2.4681349],\n",
       "       [3.1959815]], dtype=float32)"
      ]
     },
     "execution_count": 131,
     "metadata": {},
     "output_type": "execute_result"
    }
   ],
   "source": [
    "# prediction\n",
    "predictions = keras_model.predict(X_val_array)\n",
    "predictions[0:2]"
   ]
  },
  {
   "cell_type": "markdown",
   "metadata": {},
   "source": [
    "Examine Predictions"
   ]
  },
  {
   "cell_type": "code",
   "execution_count": 132,
   "metadata": {},
   "outputs": [
    {
     "data": {
      "text/html": [
       "<div>\n",
       "<style scoped>\n",
       "    .dataframe tbody tr th:only-of-type {\n",
       "        vertical-align: middle;\n",
       "    }\n",
       "\n",
       "    .dataframe tbody tr th {\n",
       "        vertical-align: top;\n",
       "    }\n",
       "\n",
       "    .dataframe thead th {\n",
       "        text-align: right;\n",
       "    }\n",
       "</style>\n",
       "<table border=\"1\" class=\"dataframe\">\n",
       "  <thead>\n",
       "    <tr style=\"text-align: right;\">\n",
       "      <th></th>\n",
       "      <th>user</th>\n",
       "      <th>business</th>\n",
       "      <th>stars</th>\n",
       "      <th>predictions</th>\n",
       "    </tr>\n",
       "  </thead>\n",
       "  <tbody>\n",
       "    <tr>\n",
       "      <th>0</th>\n",
       "      <td>2068</td>\n",
       "      <td>118</td>\n",
       "      <td>4.0</td>\n",
       "      <td>2.468135</td>\n",
       "    </tr>\n",
       "    <tr>\n",
       "      <th>1</th>\n",
       "      <td>1672</td>\n",
       "      <td>1293</td>\n",
       "      <td>5.0</td>\n",
       "      <td>3.195982</td>\n",
       "    </tr>\n",
       "    <tr>\n",
       "      <th>2</th>\n",
       "      <td>1196</td>\n",
       "      <td>235</td>\n",
       "      <td>3.0</td>\n",
       "      <td>3.000000</td>\n",
       "    </tr>\n",
       "    <tr>\n",
       "      <th>3</th>\n",
       "      <td>3377</td>\n",
       "      <td>744</td>\n",
       "      <td>3.0</td>\n",
       "      <td>2.870995</td>\n",
       "    </tr>\n",
       "    <tr>\n",
       "      <th>4</th>\n",
       "      <td>2932</td>\n",
       "      <td>291</td>\n",
       "      <td>4.0</td>\n",
       "      <td>2.729441</td>\n",
       "    </tr>\n",
       "  </tbody>\n",
       "</table>\n",
       "</div>"
      ],
      "text/plain": [
       "   user  business  stars  predictions\n",
       "0  2068       118    4.0     2.468135\n",
       "1  1672      1293    5.0     3.195982\n",
       "2  1196       235    3.0     3.000000\n",
       "3  3377       744    3.0     2.870995\n",
       "4  2932       291    4.0     2.729441"
      ]
     },
     "execution_count": 132,
     "metadata": {},
     "output_type": "execute_result"
    }
   ],
   "source": [
    "# create table adding prediction results as a column\n",
    "df_test = pd.DataFrame(X_val_keras[:,0])\n",
    "df_test.rename(columns={0: \"user\"}, inplace=True)\n",
    "df_test['business'] = X_val_keras[:,1]\n",
    "df_test['stars'] = y_val_keras\n",
    "df_test[\"predictions\"] = predictions\n",
    "df_test.head()"
   ]
  },
  {
   "cell_type": "code",
   "execution_count": 133,
   "metadata": {},
   "outputs": [
    {
     "data": {
      "image/png": "[encoded data removed]",
      "text/plain": [
       "<Figure size 576x432 with 1 Axes>"
      ]
     },
     "metadata": {},
     "output_type": "display_data"
    }
   ],
   "source": [
    "# Plotting the distribution of actual and predicted stars\n",
    "import matplotlib.pyplot as plt\n",
    "import seaborn as sns\n",
    "values, counts = np.unique(df_test['stars'], return_counts=True)\n",
    "\n",
    "plt.figure(figsize=(8,6))\n",
    "plt.bar(values, counts, tick_label=['1','2','3','4','5'], label='true value')\n",
    "plt.hist(predictions, color='orange', label='predicted value')\n",
    "plt.xlabel(\"Ratings\")\n",
    "plt.ylabel(\"Frequency\")\n",
    "plt.title(\"Ratings Histogram\")\n",
    "plt.legend()\n",
    "plt.show()\n",
    "\n",
    "# For 2 Dimensional Embedding space all predictions are just around 3, which gives big error."
   ]
  },
  {
   "cell_type": "markdown",
   "metadata": {},
   "source": [
    "Learning Curves"
   ]
  },
  {
   "cell_type": "code",
   "execution_count": 134,
   "metadata": {},
   "outputs": [
    {
     "data": {
      "text/plain": [
       "<matplotlib.legend.Legend at 0x22c0f661970>"
      ]
     },
     "execution_count": 134,
     "metadata": {},
     "output_type": "execute_result"
    },
    {
     "data": {
      "image/png": "[encoded data removed]",
      "text/plain": [
       "<Figure size 432x288 with 1 Axes>"
      ]
     },
     "metadata": {},
     "output_type": "display_data"
    }
   ],
   "source": [
    "# Learning Curves\n",
    "df = pd.DataFrame(history.history)\n",
    "\n",
    "fig = plt.figure()\n",
    "ax = fig.add_subplot()\n",
    "ax.plot(df.index, df[\"loss\"], label=\"training_loss\")\n",
    "ax.plot(df.index, df[\"val_loss\"], label=\"val_loss\")\n",
    "ax.legend()\n",
    "\n",
    "# Model is overfitting from the start since validation loss is increasing and training loss keeps decreasing.\n"
   ]
  },
  {
   "cell_type": "markdown",
   "metadata": {},
   "source": [
    "Result"
   ]
  },
  {
   "cell_type": "markdown",
   "metadata": {},
   "source": [
    "Model is overfitting from the start since validation loss is increasing and training loss keeps decreasing."
   ]
  }
 ],
 "metadata": {
  "kernelspec": {
   "display_name": "Python 3.9.7 64-bit",
   "language": "python",
   "name": "python3"
  },
  "language_info": {
   "codemirror_mode": {
    "name": "ipython",
    "version": 3
   },
   "file_extension": ".py",
   "mimetype": "text/x-python",
   "name": "python",
   "nbconvert_exporter": "python",
   "pygments_lexer": "ipython3",
   "version": "3.9.7"
  },
  "vscode": {
   "interpreter": {
    "hash": "42bee644dc9aab67352eb55cbd080121f45d4a40e193d42f9fa889f859d4be75"
   }
  }
 },
 "nbformat": 4,
 "nbformat_minor": 2
}
