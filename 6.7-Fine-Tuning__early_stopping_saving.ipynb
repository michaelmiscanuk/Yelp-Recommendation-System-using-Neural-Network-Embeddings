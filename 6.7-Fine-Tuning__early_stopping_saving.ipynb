{
 "cells": [
  {
   "cell_type": "markdown",
   "metadata": {},
   "source": [
    "# Fine-Tune the System\n",
    "___"
   ]
  },
  {
   "cell_type": "markdown",
   "metadata": {},
   "source": [
    " - You will want to use as much data as possible for this step, especially as you move toward the end of fine-tuning.\n",
    " - As always, automate what you can.\n",
    " - Fine-tune the hyperparameters using cross-validation:\n",
    " - Treat your data transformation choices as hyperparameters, especially when you are not sure about them (e.g., if you're not sure whether to replace missing values with zeros or with the median value, or to just drop the rows).\n",
    " - Unless there are very few hyperparameter values to explore, prefer random search over grid search. If training is very long, you may prefer a Bayesian optimization approach (e.g., using Gaussian process priors, as described by Jasper Snoek et al.).\n",
    " - Try Ensemble methods. Combining your best models will often produce better performance than running them individually.\n",
    " - Once you are confident about your final model, measure its performance on the test set to estimate the generalization error.\n",
    " - Warning : Don't tweak your model after measuring the generalization error: you would just start overfitting the test set."
   ]
  },
  {
   "cell_type": "markdown",
   "metadata": {},
   "source": [
    "___"
   ]
  },
  {
   "cell_type": "markdown",
   "metadata": {},
   "source": [
    "Adding Early Stopping and Model Saving."
   ]
  },
  {
   "cell_type": "markdown",
   "metadata": {},
   "source": [
    "___"
   ]
  },
  {
   "cell_type": "code",
   "execution_count": 41,
   "metadata": {},
   "outputs": [],
   "source": [
    "# Import Libraries\n",
    "import pandas as pd\n",
    "import numpy as np\n",
    "\n",
    "from sklearn.model_selection import train_test_split\n",
    "\n",
    "\n",
    "from keras.layers import Add, Activation, Lambda\n",
    "from keras.models import Model\n",
    "from keras.layers import Input, Reshape, Dot, Dropout\n",
    "from keras.layers.embeddings import Embedding\n",
    "from tensorflow.keras.optimizers import Adam\n",
    "\n",
    "from tensorflow import keras\n",
    "\n",
    "# from keras.optimizers import Adam\n",
    "from keras.regularizers import l2\n",
    "\n",
    "import math\n",
    "\n",
    "\n",
    "# Set printing in non scientific notation\n",
    "np.set_printoptions(suppress=True)\n"
   ]
  },
  {
   "cell_type": "markdown",
   "metadata": {},
   "source": [
    "Data"
   ]
  },
  {
   "cell_type": "code",
   "execution_count": 42,
   "metadata": {},
   "outputs": [
    {
     "data": {
      "text/html": [
       "<div>\n",
       "<style scoped>\n",
       "    .dataframe tbody tr th:only-of-type {\n",
       "        vertical-align: middle;\n",
       "    }\n",
       "\n",
       "    .dataframe tbody tr th {\n",
       "        vertical-align: top;\n",
       "    }\n",
       "\n",
       "    .dataframe thead th {\n",
       "        text-align: right;\n",
       "    }\n",
       "</style>\n",
       "<table border=\"1\" class=\"dataframe\">\n",
       "  <thead>\n",
       "    <tr style=\"text-align: right;\">\n",
       "      <th></th>\n",
       "      <th>user_id</th>\n",
       "      <th>business_id</th>\n",
       "      <th>stars</th>\n",
       "      <th>date</th>\n",
       "      <th>name</th>\n",
       "      <th>address</th>\n",
       "      <th>user</th>\n",
       "      <th>business</th>\n",
       "    </tr>\n",
       "  </thead>\n",
       "  <tbody>\n",
       "    <tr>\n",
       "      <th>0</th>\n",
       "      <td>nOTl4aPC4tKHK35T3bNauQ</td>\n",
       "      <td>xVEtGucSRLk5pxxN0t4i6g</td>\n",
       "      <td>5.0</td>\n",
       "      <td>2012-08-23</td>\n",
       "      <td>\"Eiffel Tower\"</td>\n",
       "      <td>\"3655 Las Vegas Blvd S\"</td>\n",
       "      <td>4189</td>\n",
       "      <td>1920</td>\n",
       "    </tr>\n",
       "    <tr>\n",
       "      <th>1</th>\n",
       "      <td>l0-VQ8nA_oijpKlRB7dkow</td>\n",
       "      <td>xVEtGucSRLk5pxxN0t4i6g</td>\n",
       "      <td>4.0</td>\n",
       "      <td>2010-02-11</td>\n",
       "      <td>\"Eiffel Tower\"</td>\n",
       "      <td>\"3655 Las Vegas Blvd S\"</td>\n",
       "      <td>3989</td>\n",
       "      <td>1920</td>\n",
       "    </tr>\n",
       "  </tbody>\n",
       "</table>\n",
       "</div>"
      ],
      "text/plain": [
       "                  user_id             business_id  stars        date  \\\n",
       "0  nOTl4aPC4tKHK35T3bNauQ  xVEtGucSRLk5pxxN0t4i6g    5.0  2012-08-23   \n",
       "1  l0-VQ8nA_oijpKlRB7dkow  xVEtGucSRLk5pxxN0t4i6g    4.0  2010-02-11   \n",
       "\n",
       "             name                  address  user  business  \n",
       "0  \"Eiffel Tower\"  \"3655 Las Vegas Blvd S\"  4189      1920  \n",
       "1  \"Eiffel Tower\"  \"3655 Las Vegas Blvd S\"  3989      1920  "
      ]
     },
     "execution_count": 42,
     "metadata": {},
     "output_type": "execute_result"
    }
   ],
   "source": [
    "combined_business_data = pd.read_pickle(\"combined_business_data.pkl\")\n",
    "combined_business_data.head(2)"
   ]
  },
  {
   "cell_type": "code",
   "execution_count": 43,
   "metadata": {},
   "outputs": [
    {
     "name": "stdout",
     "output_type": "stream",
     "text": [
      "5186 2004 1.0 5.0\n"
     ]
    }
   ],
   "source": [
    "# Store counts of distinct users and restaurants into variables\n",
    "n_users = combined_business_data[\"user\"].nunique()\n",
    "n_rests = combined_business_data[\"business\"].nunique()\n",
    "\n",
    "# Store min and max stars into a variable\n",
    "min_rating = min(combined_business_data[\"stars\"])\n",
    "max_rating = max(combined_business_data[\"stars\"])\n",
    "\n",
    "print(n_users, n_rests, min_rating, max_rating)"
   ]
  },
  {
   "cell_type": "code",
   "execution_count": 44,
   "metadata": {},
   "outputs": [
    {
     "name": "stdout",
     "output_type": "stream",
     "text": [
      "(11591, 2) (11591,)\n"
     ]
    }
   ],
   "source": [
    "# Store inputs into variabe X; store Output into variable y\n",
    "X = combined_business_data[[\"user\", \"business\"]].values\n",
    "y = combined_business_data[\"stars\"].values\n",
    "\n",
    "print(X.shape, y.shape)"
   ]
  },
  {
   "cell_type": "markdown",
   "metadata": {},
   "source": [
    "Split"
   ]
  },
  {
   "cell_type": "code",
   "execution_count": 45,
   "metadata": {},
   "outputs": [
    {
     "name": "stdout",
     "output_type": "stream",
     "text": [
      "(9272, 2) (2319, 2) (9272,) (2319,)\n"
     ]
    }
   ],
   "source": [
    "# Split data into Training and Validation set\n",
    "X_train_keras, X_val_keras, y_train_keras, y_val_keras = train_test_split(\n",
    "    X,\n",
    "    y,\n",
    "    test_size=0.2,\n",
    "    random_state=42,\n",
    ")\n",
    "\n",
    "print(X_train_keras.shape, X_val_keras.shape, y_train_keras.shape, y_val_keras.shape)"
   ]
  },
  {
   "cell_type": "code",
   "execution_count": 46,
   "metadata": {},
   "outputs": [],
   "source": [
    "# Storing Users and Restaurant into its own array. They will be input separately into the Keras Model\n",
    "X_train_array = [X_train_keras[:, 0], X_train_keras[:, 1]]\n",
    "X_val_array = [X_val_keras[:, 0], X_val_keras[:, 1]]"
   ]
  },
  {
   "cell_type": "code",
   "execution_count": 47,
   "metadata": {},
   "outputs": [
    {
     "data": {
      "text/plain": [
       "[array([3527, 3494,  763, ..., 4744, 1615, 2416]),\n",
       " array([ 166, 1511, 1972, ...,  480,  870,  918])]"
      ]
     },
     "execution_count": 47,
     "metadata": {},
     "output_type": "execute_result"
    }
   ],
   "source": [
    "X_train_array"
   ]
  },
  {
   "cell_type": "code",
   "execution_count": 48,
   "metadata": {},
   "outputs": [
    {
     "data": {
      "text/plain": [
       "[array([2068, 1672, 1196, ..., 4855, 2335, 4817]),\n",
       " array([ 118, 1293,  235, ...,  291,  974,  788])]"
      ]
     },
     "execution_count": 48,
     "metadata": {},
     "output_type": "execute_result"
    }
   ],
   "source": [
    "X_val_array"
   ]
  },
  {
   "cell_type": "markdown",
   "metadata": {},
   "source": [
    "Choose number of dimensions in embedding space"
   ]
  },
  {
   "cell_type": "code",
   "execution_count": 49,
   "metadata": {},
   "outputs": [],
   "source": [
    "# Variable that stores number of embedding dimension. Will be tuned as hyperparameter later.\n",
    "n_embedding_dim = 50"
   ]
  },
  {
   "cell_type": "markdown",
   "metadata": {},
   "source": [
    "## Model"
   ]
  },
  {
   "cell_type": "code",
   "execution_count": 50,
   "metadata": {},
   "outputs": [],
   "source": [
    "class EmbeddingLayer:\n",
    "    '''\n",
    "    Class to create main section of the model, creating embedding layer followed by the reshape layer.\n",
    "    '''\n",
    "    def __init__(self, n_items, n_embedding_dim):\n",
    "        # ^ vocabulary size, number of categories, or here,\n",
    "        # ^ number of distinct users or number of distinct restaurants\n",
    "        self.n_items = n_items\n",
    "\n",
    "        # ^ encode into how many dimensions?\n",
    "        # ^ each item(user/restaurant) will be represented as a vector of size n_embedding_dim\n",
    "        self.n_embedding_dim = n_embedding_dim\n",
    "\n",
    "    def __call__(self, x):\n",
    "        x = Embedding(\n",
    "            input_dim = self.n_items, # number of users/restaurants in a training set\n",
    "            output_dim = self.n_embedding_dim, # how many dimensions should embedding space contain\n",
    "            embeddings_initializer=\"he_normal\", # initializer for initial parameter values at the beggining of training\n",
    "            embeddings_regularizer=l2(1e-6), # regularzation to reduce overfitting\n",
    "        )(x)\n",
    "        x = Reshape((self.n_embedding_dim,))(x)\n",
    "        x = Dropout(0.5)(x)\n",
    "        \n",
    "\n",
    "        return x\n",
    "\n",
    "\n",
    "def Recommender(n_users, n_rests, n_embedding_dim, min_rating, max_rating):\n",
    "    user = Input(shape=(1,))\n",
    "    u = EmbeddingLayer(n_users, n_embedding_dim)(user)\n",
    "    ub = EmbeddingLayer(n_users, 1)(user)  # bias\n",
    "\n",
    "    restaurant = Input(shape=(1,))\n",
    "    m = EmbeddingLayer(n_rests, n_embedding_dim)(restaurant)\n",
    "    mb = EmbeddingLayer(n_rests, 1)(restaurant)  # bias\n",
    "\n",
    "    x = Dot(axes=1)([u, m]) # Dot product between vector of user and vector of restaurant\n",
    "    x = Add()([x, ub, mb]) # Adding both bias vectors\n",
    "    x = Activation(\"sigmoid\")(x)\n",
    "    x = Lambda(lambda x: x * (max_rating - min_rating) + min_rating)(x) # Scaling\n",
    "\n",
    "    model = Model(inputs=[user, restaurant], outputs=x) # Creating the model and specifying input and output\n",
    "    opt = Adam(learning_rate=0.001) # Optimizer algorithm and its learning rate\n",
    "    model.compile(loss=\"mean_squared_error\", optimizer=opt) # compiling model and specifying loss function\n",
    "\n",
    "    return model"
   ]
  },
  {
   "cell_type": "code",
   "execution_count": 51,
   "metadata": {},
   "outputs": [
    {
     "name": "stdout",
     "output_type": "stream",
     "text": [
      "Model: \"model_2\"\n",
      "__________________________________________________________________________________________________\n",
      "Layer (type)                    Output Shape         Param #     Connected to                     \n",
      "==================================================================================================\n",
      "input_5 (InputLayer)            [(None, 1)]          0                                            \n",
      "__________________________________________________________________________________________________\n",
      "input_6 (InputLayer)            [(None, 1)]          0                                            \n",
      "__________________________________________________________________________________________________\n",
      "embedding_8 (Embedding)         (None, 1, 50)        259300      input_5[0][0]                    \n",
      "__________________________________________________________________________________________________\n",
      "embedding_10 (Embedding)        (None, 1, 50)        100200      input_6[0][0]                    \n",
      "__________________________________________________________________________________________________\n",
      "reshape_8 (Reshape)             (None, 50)           0           embedding_8[0][0]                \n",
      "__________________________________________________________________________________________________\n",
      "reshape_10 (Reshape)            (None, 50)           0           embedding_10[0][0]               \n",
      "__________________________________________________________________________________________________\n",
      "embedding_9 (Embedding)         (None, 1, 1)         5186        input_5[0][0]                    \n",
      "__________________________________________________________________________________________________\n",
      "embedding_11 (Embedding)        (None, 1, 1)         2004        input_6[0][0]                    \n",
      "__________________________________________________________________________________________________\n",
      "dropout_8 (Dropout)             (None, 50)           0           reshape_8[0][0]                  \n",
      "__________________________________________________________________________________________________\n",
      "dropout_10 (Dropout)            (None, 50)           0           reshape_10[0][0]                 \n",
      "__________________________________________________________________________________________________\n",
      "reshape_9 (Reshape)             (None, 1)            0           embedding_9[0][0]                \n",
      "__________________________________________________________________________________________________\n",
      "reshape_11 (Reshape)            (None, 1)            0           embedding_11[0][0]               \n",
      "__________________________________________________________________________________________________\n",
      "dot_2 (Dot)                     (None, 1)            0           dropout_8[0][0]                  \n",
      "                                                                 dropout_10[0][0]                 \n",
      "__________________________________________________________________________________________________\n",
      "dropout_9 (Dropout)             (None, 1)            0           reshape_9[0][0]                  \n",
      "__________________________________________________________________________________________________\n",
      "dropout_11 (Dropout)            (None, 1)            0           reshape_11[0][0]                 \n",
      "__________________________________________________________________________________________________\n",
      "add_2 (Add)                     (None, 1)            0           dot_2[0][0]                      \n",
      "                                                                 dropout_9[0][0]                  \n",
      "                                                                 dropout_11[0][0]                 \n",
      "__________________________________________________________________________________________________\n",
      "activation_2 (Activation)       (None, 1)            0           add_2[0][0]                      \n",
      "__________________________________________________________________________________________________\n",
      "lambda_2 (Lambda)               (None, 1)            0           activation_2[0][0]               \n",
      "==================================================================================================\n",
      "Total params: 366,690\n",
      "Trainable params: 366,690\n",
      "Non-trainable params: 0\n",
      "__________________________________________________________________________________________________\n"
     ]
    }
   ],
   "source": [
    "keras_model = Recommender(n_users, n_rests, n_embedding_dim, min_rating, max_rating)\n",
    "keras_model.summary()"
   ]
  },
  {
   "cell_type": "code",
   "execution_count": 52,
   "metadata": {},
   "outputs": [
    {
     "data": {
      "image/png": "[encoded data removed]",
      "text/plain": [
       "<IPython.core.display.Image object>"
      ]
     },
     "execution_count": 52,
     "metadata": {},
     "output_type": "execute_result"
    }
   ],
   "source": [
    "# Plot Model\n",
    "from keras.utils.vis_utils import plot_model\n",
    "\n",
    "plot_model(keras_model, show_shapes=True)\n"
   ]
  },
  {
   "cell_type": "markdown",
   "metadata": {},
   "source": [
    "Early Stopping and Saving Checkpoint"
   ]
  },
  {
   "cell_type": "code",
   "execution_count": 53,
   "metadata": {},
   "outputs": [],
   "source": [
    "# Early Stopping\n",
    "early_stopping_cb = keras.callbacks.EarlyStopping(patience=7, restore_best_weights=True)\n",
    "\n",
    "# Callbacks for Saving Checkpoints\n",
    "checkpoint_cb = keras.callbacks.ModelCheckpoint(\"my_keras_model.h5\", save_best_only=True)\n"
   ]
  },
  {
   "cell_type": "markdown",
   "metadata": {},
   "source": [
    "Fit / Train"
   ]
  },
  {
   "cell_type": "code",
   "execution_count": 54,
   "metadata": {},
   "outputs": [
    {
     "name": "stdout",
     "output_type": "stream",
     "text": [
      "Epoch 1/20\n",
      "145/145 [==============================] - 6s 26ms/step - loss: 2.4219 - val_loss: 2.3728\n",
      "Epoch 2/20\n",
      "  4/145 [..............................] - ETA: 2s - loss: 2.2088"
     ]
    },
    {
     "name": "stderr",
     "output_type": "stream",
     "text": [
      "c:\\Python397\\lib\\site-packages\\keras\\utils\\generic_utils.py:494: CustomMaskWarning: Custom mask layers require a config and must override get_config. When loading, the custom mask layer must be passed to the custom_objects argument.\n",
      "  warnings.warn('Custom mask layers require a config and must override '\n"
     ]
    },
    {
     "name": "stdout",
     "output_type": "stream",
     "text": [
      "145/145 [==============================] - 2s 16ms/step - loss: 2.3593 - val_loss: 2.3330\n",
      "Epoch 3/20\n",
      "145/145 [==============================] - 2s 15ms/step - loss: 2.2889 - val_loss: 2.2954\n",
      "Epoch 4/20\n",
      "145/145 [==============================] - 3s 22ms/step - loss: 2.2170 - val_loss: 2.2600\n",
      "Epoch 5/20\n",
      "145/145 [==============================] - 7s 46ms/step - loss: 2.1293 - val_loss: 2.2297\n",
      "Epoch 6/20\n",
      "145/145 [==============================] - 2s 12ms/step - loss: 2.0345 - val_loss: 2.2012\n",
      "Epoch 7/20\n",
      "145/145 [==============================] - 3s 19ms/step - loss: 1.9282 - val_loss: 2.1756\n",
      "Epoch 8/20\n",
      "145/145 [==============================] - 2s 15ms/step - loss: 1.8115 - val_loss: 2.1520A: 0s - l\n",
      "Epoch 9/20\n",
      "145/145 [==============================] - 2s 15ms/step - loss: 1.6899 - val_loss: 2.1322\n",
      "Epoch 10/20\n",
      "145/145 [==============================] - 2s 12ms/step - loss: 1.5567 - val_loss: 2.1165\n",
      "Epoch 11/20\n",
      "145/145 [==============================] - 2s 14ms/step - loss: 1.4305 - val_loss: 2.1019\n",
      "Epoch 12/20\n",
      "145/145 [==============================] - 2s 13ms/step - loss: 1.3167 - val_loss: 2.0882\n",
      "Epoch 13/20\n",
      "145/145 [==============================] - 3s 18ms/step - loss: 1.1997 - val_loss: 2.0779\n",
      "Epoch 14/20\n",
      "145/145 [==============================] - 2s 15ms/step - loss: 1.0895 - val_loss: 2.0702\n",
      "Epoch 15/20\n",
      "145/145 [==============================] - 2s 16ms/step - loss: 1.0045 - val_loss: 2.0622\n",
      "Epoch 16/20\n",
      "145/145 [==============================] - 2s 17ms/step - loss: 0.9080 - val_loss: 2.0559\n",
      "Epoch 17/20\n",
      "145/145 [==============================] - 2s 14ms/step - loss: 0.8243 - val_loss: 2.0503\n",
      "Epoch 18/20\n",
      "145/145 [==============================] - 2s 15ms/step - loss: 0.7558 - val_loss: 2.0478\n",
      "Epoch 19/20\n",
      "145/145 [==============================] - 2s 17ms/step - loss: 0.6886 - val_loss: 2.0449\n",
      "Epoch 20/20\n",
      "145/145 [==============================] - 3s 19ms/step - loss: 0.6333 - val_loss: 2.0433\n"
     ]
    }
   ],
   "source": [
    "# Fitting the model, choosing batch size, number of epochs, and test data for validation\n",
    "history = keras_model.fit(\n",
    "    x=X_train_array,\n",
    "    y=y_train_keras,\n",
    "    batch_size=64,\n",
    "    epochs=20,\n",
    "    verbose=1,\n",
    "    validation_data=(\n",
    "        X_val_array,\n",
    "        y_val_keras,\n",
    "    ),\n",
    "    callbacks=[checkpoint_cb, early_stopping_cb]\n",
    ")"
   ]
  },
  {
   "cell_type": "markdown",
   "metadata": {},
   "source": [
    "Evaluation"
   ]
  },
  {
   "cell_type": "code",
   "execution_count": 55,
   "metadata": {},
   "outputs": [
    {
     "name": "stdout",
     "output_type": "stream",
     "text": [
      "73/73 [==============================] - 1s 8ms/step - loss: 2.0433\n",
      "MSE:\n",
      " 2.0433380603790283\n"
     ]
    }
   ],
   "source": [
    "mse_test = keras_model.evaluate(X_val_array, y_val_keras)\n",
    "print(f\"MSE:\\n {mse_test}\")"
   ]
  },
  {
   "cell_type": "markdown",
   "metadata": {},
   "source": [
    "Prediction"
   ]
  },
  {
   "cell_type": "code",
   "execution_count": 56,
   "metadata": {},
   "outputs": [
    {
     "data": {
      "text/plain": [
       "array([[3.309643 ],\n",
       "       [3.2551055]], dtype=float32)"
      ]
     },
     "execution_count": 56,
     "metadata": {},
     "output_type": "execute_result"
    }
   ],
   "source": [
    "# prediction\n",
    "predictions = keras_model.predict(X_val_array)\n",
    "predictions[0:2]"
   ]
  },
  {
   "cell_type": "markdown",
   "metadata": {},
   "source": [
    "Examine Predictions"
   ]
  },
  {
   "cell_type": "code",
   "execution_count": 57,
   "metadata": {},
   "outputs": [
    {
     "data": {
      "text/html": [
       "<div>\n",
       "<style scoped>\n",
       "    .dataframe tbody tr th:only-of-type {\n",
       "        vertical-align: middle;\n",
       "    }\n",
       "\n",
       "    .dataframe tbody tr th {\n",
       "        vertical-align: top;\n",
       "    }\n",
       "\n",
       "    .dataframe thead th {\n",
       "        text-align: right;\n",
       "    }\n",
       "</style>\n",
       "<table border=\"1\" class=\"dataframe\">\n",
       "  <thead>\n",
       "    <tr style=\"text-align: right;\">\n",
       "      <th></th>\n",
       "      <th>user</th>\n",
       "      <th>business</th>\n",
       "      <th>stars</th>\n",
       "      <th>predictions</th>\n",
       "    </tr>\n",
       "  </thead>\n",
       "  <tbody>\n",
       "    <tr>\n",
       "      <th>0</th>\n",
       "      <td>2068</td>\n",
       "      <td>118</td>\n",
       "      <td>4.0</td>\n",
       "      <td>3.309643</td>\n",
       "    </tr>\n",
       "    <tr>\n",
       "      <th>1</th>\n",
       "      <td>1672</td>\n",
       "      <td>1293</td>\n",
       "      <td>5.0</td>\n",
       "      <td>3.255105</td>\n",
       "    </tr>\n",
       "    <tr>\n",
       "      <th>2</th>\n",
       "      <td>1196</td>\n",
       "      <td>235</td>\n",
       "      <td>3.0</td>\n",
       "      <td>2.931713</td>\n",
       "    </tr>\n",
       "    <tr>\n",
       "      <th>3</th>\n",
       "      <td>3377</td>\n",
       "      <td>744</td>\n",
       "      <td>3.0</td>\n",
       "      <td>2.890026</td>\n",
       "    </tr>\n",
       "    <tr>\n",
       "      <th>4</th>\n",
       "      <td>2932</td>\n",
       "      <td>291</td>\n",
       "      <td>4.0</td>\n",
       "      <td>3.514886</td>\n",
       "    </tr>\n",
       "  </tbody>\n",
       "</table>\n",
       "</div>"
      ],
      "text/plain": [
       "   user  business  stars  predictions\n",
       "0  2068       118    4.0     3.309643\n",
       "1  1672      1293    5.0     3.255105\n",
       "2  1196       235    3.0     2.931713\n",
       "3  3377       744    3.0     2.890026\n",
       "4  2932       291    4.0     3.514886"
      ]
     },
     "execution_count": 57,
     "metadata": {},
     "output_type": "execute_result"
    }
   ],
   "source": [
    "# create table adding prediction results as a column\n",
    "df_test = pd.DataFrame(X_val_keras[:,0])\n",
    "df_test.rename(columns={0: \"user\"}, inplace=True)\n",
    "df_test['business'] = X_val_keras[:,1]\n",
    "df_test['stars'] = y_val_keras\n",
    "df_test[\"predictions\"] = predictions\n",
    "df_test.head()"
   ]
  },
  {
   "cell_type": "code",
   "execution_count": 58,
   "metadata": {},
   "outputs": [],
   "source": [
    "# Change label colors of matplotlib\n",
    "import matplotlib as mpl\n",
    "mpl.rcParams['figure.facecolor'] = 'white'"
   ]
  },
  {
   "cell_type": "code",
   "execution_count": 59,
   "metadata": {},
   "outputs": [
    {
     "data": {
      "image/png": "[encoded data removed]",
      "text/plain": [
       "<Figure size 576x432 with 1 Axes>"
      ]
     },
     "metadata": {},
     "output_type": "display_data"
    }
   ],
   "source": [
    "# Plotting the distribution of actual and predicted stars\n",
    "import matplotlib.pyplot as plt\n",
    "import seaborn as sns\n",
    "values, counts = np.unique(df_test['stars'], return_counts=True)\n",
    "\n",
    "plt.figure(figsize=(8,6))\n",
    "plt.bar(values, counts, tick_label=['1','2','3','4','5'], label='true value')\n",
    "plt.hist(predictions, color='orange', label='predicted value')\n",
    "plt.xlabel(\"Ratings\")\n",
    "plt.ylabel(\"Frequency\")\n",
    "plt.title(\"Ratings Histogram\")\n",
    "plt.legend()\n",
    "plt.show()\n",
    "\n",
    "# For 2 Dimensional Embedding space all predictions are just around 3, which gives big error."
   ]
  },
  {
   "cell_type": "markdown",
   "metadata": {},
   "source": [
    "Learning Curves"
   ]
  },
  {
   "cell_type": "code",
   "execution_count": 60,
   "metadata": {},
   "outputs": [
    {
     "data": {
      "text/plain": [
       "<matplotlib.legend.Legend at 0x184a4cdbf70>"
      ]
     },
     "execution_count": 60,
     "metadata": {},
     "output_type": "execute_result"
    },
    {
     "data": {
      "image/png": "[encoded data removed]",
      "text/plain": [
       "<Figure size 432x288 with 1 Axes>"
      ]
     },
     "metadata": {},
     "output_type": "display_data"
    }
   ],
   "source": [
    "# Learning Curves\n",
    "df = pd.DataFrame(history.history)\n",
    "\n",
    "fig = plt.figure()\n",
    "ax = fig.add_subplot()\n",
    "ax.plot(df.index, df[\"loss\"], label=\"training_loss\")\n",
    "ax.plot(df.index, df[\"val_loss\"], label=\"val_loss\")\n",
    "ax.legend()\n",
    "\n"
   ]
  },
  {
   "cell_type": "markdown",
   "metadata": {},
   "source": [
    "Result"
   ]
  },
  {
   "cell_type": "markdown",
   "metadata": {},
   "source": [
    "Here I applied Early Stopping and Saving of the Best Model."
   ]
  }
 ],
 "metadata": {
  "kernelspec": {
   "display_name": "Python 3.9.7 64-bit",
   "language": "python",
   "name": "python3"
  },
  "language_info": {
   "codemirror_mode": {
    "name": "ipython",
    "version": 3
   },
   "file_extension": ".py",
   "mimetype": "text/x-python",
   "name": "python",
   "nbconvert_exporter": "python",
   "pygments_lexer": "ipython3",
   "version": "3.9.7"
  },
  "vscode": {
   "interpreter": {
    "hash": "42bee644dc9aab67352eb55cbd080121f45d4a40e193d42f9fa889f859d4be75"
   }
  }
 },
 "nbformat": 4,
 "nbformat_minor": 2
}
