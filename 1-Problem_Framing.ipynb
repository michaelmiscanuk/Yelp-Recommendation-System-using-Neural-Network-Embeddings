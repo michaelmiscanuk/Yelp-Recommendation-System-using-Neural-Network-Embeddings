{
 "cells": [
  {
   "cell_type": "markdown",
   "metadata": {},
   "source": [
    "# Frame the Problem and Look at the Big Picture\n",
    "___"
   ]
  },
  {
   "cell_type": "markdown",
   "metadata": {},
   "source": [
    "## Define the objective in business terms."
   ]
  },
  {
   "cell_type": "markdown",
   "metadata": {},
   "source": [
    "Having chosen a Restaurant, system should recommend similar restaurant based on user ratings."
   ]
  },
  {
   "cell_type": "markdown",
   "metadata": {},
   "source": [
    "## How will your solution be used?"
   ]
  },
  {
   "cell_type": "markdown",
   "metadata": {},
   "source": [
    "Prototype version can be implemented as a web service. Having small web application with a form, where user can input a name of the restaurant. System then returns similar restaurants."
   ]
  },
  {
   "cell_type": "markdown",
   "metadata": {},
   "source": [
    "## What are the current workaround solutions/workarounds (if any)?"
   ]
  },
  {
   "cell_type": "markdown",
   "metadata": {},
   "source": [
    "User can use the yelp website, click around and see what restaurands his friends like etc."
   ]
  },
  {
   "cell_type": "markdown",
   "metadata": {},
   "source": [
    "## How should you frame this problem (supervised/unsupervised, online/offline, etc.)?"
   ]
  },
  {
   "cell_type": "markdown",
   "metadata": {},
   "source": [
    "Supervised learning to train embedding layer using neural networks. Embedding layer is then used to find similar restaurants. It is offline learning. Model is learned in batch mode and deployed for later use. Once in a time it can be retrained."
   ]
  },
  {
   "cell_type": "markdown",
   "metadata": {},
   "source": [
    "## How should performance be measured?"
   ]
  },
  {
   "cell_type": "markdown",
   "metadata": {},
   "source": [
    "Rating is a number between 1 and 5. I use Mean Square Error to measure performance. "
   ]
  },
  {
   "cell_type": "markdown",
   "metadata": {},
   "source": [
    "## Is the performance measure aligned with the business objective?"
   ]
  },
  {
   "cell_type": "markdown",
   "metadata": {},
   "source": [
    "Yes, we want predicted rating to be as close to the actual rating. Because we square errors - bigger difference give bigger errors."
   ]
  },
  {
   "cell_type": "markdown",
   "metadata": {},
   "source": [
    "## What would be the minimum performance needed to reach the business objective?"
   ]
  },
  {
   "cell_type": "markdown",
   "metadata": {},
   "source": [
    "/"
   ]
  },
  {
   "cell_type": "markdown",
   "metadata": {},
   "source": [
    "## What are comparable problems? Can you reuse experience or tools?"
   ]
  },
  {
   "cell_type": "markdown",
   "metadata": {},
   "source": [
    "There are several ways to create recommendation system:\n",
    " - Collaborative Filtering Recommendations\n",
    "   -  Based on ratings or reviews of other users\n",
    " - Context Based Filtering Recommendations\n",
    "   -  Based on Attributes of restaurants\n",
    " - Friends Network Recommendations\n",
    "   -  Based on ratings of my friends\n",
    " - Location Based Recommendation\n",
    "   -  Based on user location\n",
    ">\n",
    "Sources: (I am reusing / getting inspiration mainly by this sources)\n",
    " - https://towardsdatascience.com/building-a-recommendation-system-using-neural-network-embeddings-1ef92e5c80c9\n",
    " - https://www.kaggle.com/code/zolboo/recommender-systems-knn-svd-nn-keras\n",
    " - https://www.kirenz.com/post/2021-12-11-text-mining-and-sentiment-analysis-with-nltk-and-pandas-in-python/text-mining-and-sentiment-analysis-with-nltk-and-pandas-in-python/\n",
    " - https://towardsdatascience.com/how-to-build-a-restaurant-recommendation-system-using-latent-factor-collaborative-filtering-ffe08dd57dca\n",
    " - https://stackoverflow.com/questions/45545110/make-pandas-dataframe-apply-use-all-cores \n",
    " - https://stackoverflow.com/questions/18603270/progress-indicator-during-pandas-operations \n",
    " - https://stackoverflow.com/questions/38763007/how-to-use-spacy-lemmatizer-to-get-a-word-into-basic-form \n",
    " - https://stackoverflow.com/questions/22258491/read-a-small-random-sample-from-a-big-csv-file-into-a-python-data-frame\n",
    " - https://stats.stackexchange.com/questions/270546/how-does-keras-embedding-layer-work\n",
    " - https://github.com/cerlymarco/keras-hypetune\n",
    " - etc."
   ]
  },
  {
   "cell_type": "markdown",
   "metadata": {},
   "source": [
    "## Is human expertise available?"
   ]
  },
  {
   "cell_type": "markdown",
   "metadata": {},
   "source": [
    "/"
   ]
  },
  {
   "cell_type": "markdown",
   "metadata": {},
   "source": [
    "## How would you solve the problem manually?"
   ]
  },
  {
   "cell_type": "markdown",
   "metadata": {},
   "source": [
    "Possible way, but less exact, prone to errors:\n",
    " - I choose a restaurant.\n",
    " - Find users that rated this chosen restaurant similarly.\n",
    " - See which restaurants they liked the most.\n",
    " - Do some statistics and aggregations, like mode, the most liked restaurants by these users.\n",
    " - Choose restaurants to recomment from this aggregations.\n",
    "    "
   ]
  },
  {
   "cell_type": "markdown",
   "metadata": {},
   "source": [
    "## List the assumptions you (or others) have made so far."
   ]
  },
  {
   "cell_type": "markdown",
   "metadata": {},
   "source": [
    " - I will focus on one city in the USA, to speed up processing."
   ]
  },
  {
   "cell_type": "markdown",
   "metadata": {},
   "source": [
    "## Verify assumptions if possible."
   ]
  },
  {
   "cell_type": "markdown",
   "metadata": {},
   "source": [
    "/"
   ]
  }
 ],
 "metadata": {
  "kernelspec": {
   "display_name": "Python 3",
   "language": "python",
   "name": "python3"
  },
  "language_info": {
   "codemirror_mode": {
    "name": "ipython",
    "version": 3
   },
   "file_extension": ".py",
   "mimetype": "text/x-python",
   "name": "python",
   "nbconvert_exporter": "python",
   "pygments_lexer": "ipython3",
   "version": "3.6.3"
  }
 },
 "nbformat": 4,
 "nbformat_minor": 2
}
