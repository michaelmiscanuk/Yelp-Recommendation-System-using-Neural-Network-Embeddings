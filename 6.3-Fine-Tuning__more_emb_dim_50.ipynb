{
 "cells": [
  {
   "cell_type": "markdown",
   "metadata": {},
   "source": [
    "# Fine-Tune the System\n",
    "___"
   ]
  },
  {
   "cell_type": "markdown",
   "metadata": {},
   "source": [
    " - You will want to use as much data as possible for this step, especially as you move toward the end of fine-tuning.\n",
    " - As always, automate what you can.\n",
    " - Fine-tune the hyperparameters using cross-validation:\n",
    " - Treat your data transformation choices as hyperparameters, especially when you are not sure about them (e.g., if you're not sure whether to replace missing values with zeros or with the median value, or to just drop the rows).\n",
    " - Unless there are very few hyperparameter values to explore, prefer random search over grid search. If training is very long, you may prefer a Bayesian optimization approach (e.g., using Gaussian process priors, as described by Jasper Snoek et al.).\n",
    " - Try Ensemble methods. Combining your best models will often produce better performance than running them individually.\n",
    " - Once you are confident about your final model, measure its performance on the test set to estimate the generalization error.\n",
    " - Warning : Don't tweak your model after measuring the generalization error: you would just start overfitting the test set."
   ]
  },
  {
   "cell_type": "markdown",
   "metadata": {},
   "source": [
    "___"
   ]
  },
  {
   "cell_type": "markdown",
   "metadata": {},
   "source": [
    "Adding more dimension to embedding space - 50."
   ]
  },
  {
   "cell_type": "markdown",
   "metadata": {},
   "source": [
    "___"
   ]
  },
  {
   "cell_type": "code",
   "execution_count": 21,
   "metadata": {},
   "outputs": [],
   "source": [
    "# Import Libraries\n",
    "import pandas as pd\n",
    "import numpy as np\n",
    "\n",
    "from sklearn.model_selection import train_test_split\n",
    "\n",
    "\n",
    "from keras.layers import Add, Activation, Lambda\n",
    "from keras.models import Model\n",
    "from keras.layers import Input, Reshape, Dot\n",
    "from keras.layers.embeddings import Embedding\n",
    "from tensorflow.keras.optimizers import Adam\n",
    "\n",
    "# from keras.optimizers import Adam\n",
    "from keras.regularizers import l2\n",
    "\n",
    "import math\n",
    "\n",
    "\n",
    "# Set printing in non scientific notation\n",
    "np.set_printoptions(suppress=True)\n"
   ]
  },
  {
   "cell_type": "code",
   "execution_count": 24,
   "metadata": {},
   "outputs": [],
   "source": [
    "# Change label colors of matplotlib\n",
    "import matplotlib as mpl\n",
    "mpl.rcParams['figure.facecolor'] = 'white'"
   ]
  },
  {
   "cell_type": "markdown",
   "metadata": {},
   "source": [
    "Data"
   ]
  },
  {
   "cell_type": "code",
   "execution_count": 2,
   "metadata": {},
   "outputs": [
    {
     "data": {
      "text/html": [
       "<div>\n",
       "<style scoped>\n",
       "    .dataframe tbody tr th:only-of-type {\n",
       "        vertical-align: middle;\n",
       "    }\n",
       "\n",
       "    .dataframe tbody tr th {\n",
       "        vertical-align: top;\n",
       "    }\n",
       "\n",
       "    .dataframe thead th {\n",
       "        text-align: right;\n",
       "    }\n",
       "</style>\n",
       "<table border=\"1\" class=\"dataframe\">\n",
       "  <thead>\n",
       "    <tr style=\"text-align: right;\">\n",
       "      <th></th>\n",
       "      <th>user_id</th>\n",
       "      <th>business_id</th>\n",
       "      <th>stars</th>\n",
       "      <th>date</th>\n",
       "      <th>name</th>\n",
       "      <th>address</th>\n",
       "      <th>user</th>\n",
       "      <th>business</th>\n",
       "    </tr>\n",
       "  </thead>\n",
       "  <tbody>\n",
       "    <tr>\n",
       "      <th>0</th>\n",
       "      <td>nOTl4aPC4tKHK35T3bNauQ</td>\n",
       "      <td>xVEtGucSRLk5pxxN0t4i6g</td>\n",
       "      <td>5.0</td>\n",
       "      <td>2012-08-23</td>\n",
       "      <td>\"Eiffel Tower\"</td>\n",
       "      <td>\"3655 Las Vegas Blvd S\"</td>\n",
       "      <td>4189</td>\n",
       "      <td>1920</td>\n",
       "    </tr>\n",
       "    <tr>\n",
       "      <th>1</th>\n",
       "      <td>l0-VQ8nA_oijpKlRB7dkow</td>\n",
       "      <td>xVEtGucSRLk5pxxN0t4i6g</td>\n",
       "      <td>4.0</td>\n",
       "      <td>2010-02-11</td>\n",
       "      <td>\"Eiffel Tower\"</td>\n",
       "      <td>\"3655 Las Vegas Blvd S\"</td>\n",
       "      <td>3989</td>\n",
       "      <td>1920</td>\n",
       "    </tr>\n",
       "  </tbody>\n",
       "</table>\n",
       "</div>"
      ],
      "text/plain": [
       "                  user_id             business_id  stars        date  \\\n",
       "0  nOTl4aPC4tKHK35T3bNauQ  xVEtGucSRLk5pxxN0t4i6g    5.0  2012-08-23   \n",
       "1  l0-VQ8nA_oijpKlRB7dkow  xVEtGucSRLk5pxxN0t4i6g    4.0  2010-02-11   \n",
       "\n",
       "             name                  address  user  business  \n",
       "0  \"Eiffel Tower\"  \"3655 Las Vegas Blvd S\"  4189      1920  \n",
       "1  \"Eiffel Tower\"  \"3655 Las Vegas Blvd S\"  3989      1920  "
      ]
     },
     "execution_count": 2,
     "metadata": {},
     "output_type": "execute_result"
    }
   ],
   "source": [
    "combined_business_data = pd.read_pickle(\"combined_business_data.pkl\")\n",
    "combined_business_data.head(2)"
   ]
  },
  {
   "cell_type": "code",
   "execution_count": 3,
   "metadata": {},
   "outputs": [
    {
     "name": "stdout",
     "output_type": "stream",
     "text": [
      "5186 2004 1.0 5.0\n"
     ]
    }
   ],
   "source": [
    "# Store counts of distinct users and restaurants into variables\n",
    "n_users = combined_business_data[\"user\"].nunique()\n",
    "n_rests = combined_business_data[\"business\"].nunique()\n",
    "\n",
    "# Store min and max stars into a variable\n",
    "min_rating = min(combined_business_data[\"stars\"])\n",
    "max_rating = max(combined_business_data[\"stars\"])\n",
    "\n",
    "print(n_users, n_rests, min_rating, max_rating)"
   ]
  },
  {
   "cell_type": "code",
   "execution_count": 4,
   "metadata": {},
   "outputs": [
    {
     "name": "stdout",
     "output_type": "stream",
     "text": [
      "(11591, 2) (11591,)\n"
     ]
    }
   ],
   "source": [
    "# Store inputs into variabe X; store Output into variable y\n",
    "X = combined_business_data[[\"user\", \"business\"]].values\n",
    "y = combined_business_data[\"stars\"].values\n",
    "\n",
    "print(X.shape, y.shape)"
   ]
  },
  {
   "cell_type": "markdown",
   "metadata": {},
   "source": [
    "Split"
   ]
  },
  {
   "cell_type": "code",
   "execution_count": 5,
   "metadata": {},
   "outputs": [
    {
     "name": "stdout",
     "output_type": "stream",
     "text": [
      "(9272, 2) (2319, 2) (9272,) (2319,)\n"
     ]
    }
   ],
   "source": [
    "# Split data into Training and Validation set\n",
    "X_train_keras, X_val_keras, y_train_keras, y_val_keras = train_test_split(\n",
    "    X,\n",
    "    y,\n",
    "    test_size=0.2,\n",
    "    random_state=42,\n",
    ")\n",
    "\n",
    "print(X_train_keras.shape, X_val_keras.shape, y_train_keras.shape, y_val_keras.shape)"
   ]
  },
  {
   "cell_type": "code",
   "execution_count": 6,
   "metadata": {},
   "outputs": [],
   "source": [
    "# Storing Users and Restaurant into its own array. They will be input separately into the Keras Model\n",
    "X_train_array = [X_train_keras[:, 0], X_train_keras[:, 1]]\n",
    "X_val_array = [X_val_keras[:, 0], X_val_keras[:, 1]]"
   ]
  },
  {
   "cell_type": "code",
   "execution_count": 7,
   "metadata": {},
   "outputs": [
    {
     "data": {
      "text/plain": [
       "[array([3527, 3494,  763, ..., 4744, 1615, 2416]),\n",
       " array([ 166, 1511, 1972, ...,  480,  870,  918])]"
      ]
     },
     "execution_count": 7,
     "metadata": {},
     "output_type": "execute_result"
    }
   ],
   "source": [
    "X_train_array"
   ]
  },
  {
   "cell_type": "code",
   "execution_count": 8,
   "metadata": {},
   "outputs": [
    {
     "data": {
      "text/plain": [
       "[array([2068, 1672, 1196, ..., 4855, 2335, 4817]),\n",
       " array([ 118, 1293,  235, ...,  291,  974,  788])]"
      ]
     },
     "execution_count": 8,
     "metadata": {},
     "output_type": "execute_result"
    }
   ],
   "source": [
    "X_val_array"
   ]
  },
  {
   "cell_type": "markdown",
   "metadata": {},
   "source": [
    "Choose number of dimensions in embedding space"
   ]
  },
  {
   "cell_type": "code",
   "execution_count": 9,
   "metadata": {},
   "outputs": [],
   "source": [
    "# Variable that stores number of embedding dimension. Will be tuned as hyperparameter later.\n",
    "n_embedding_dim = 50"
   ]
  },
  {
   "cell_type": "markdown",
   "metadata": {},
   "source": [
    "## Model"
   ]
  },
  {
   "cell_type": "code",
   "execution_count": 10,
   "metadata": {},
   "outputs": [],
   "source": [
    "class EmbeddingLayer:\n",
    "    '''\n",
    "    Class to create main section of the model, creating embedding layer followed by the reshape layer.\n",
    "    '''\n",
    "    def __init__(self, n_items, n_embedding_dim):\n",
    "        # ^ vocabulary size, number of categories, or here,\n",
    "        # ^ number of distinct users or number of distinct restaurants\n",
    "        self.n_items = n_items\n",
    "\n",
    "        # ^ encode into how many dimensions?\n",
    "        # ^ each item(user/restaurant) will be represented as a vector of size n_embedding_dim\n",
    "        self.n_embedding_dim = n_embedding_dim\n",
    "\n",
    "    def __call__(self, x):\n",
    "        x = Embedding(\n",
    "            input_dim = self.n_items, # number of users/restaurants in a training set\n",
    "            output_dim = self.n_embedding_dim, # how many dimensions should embedding space contain\n",
    "            embeddings_initializer=\"he_normal\", # initializer for initial parameter values at the beggining of training\n",
    "            embeddings_regularizer=l2(1e-6), # regularzation to reduce overfitting\n",
    "        )(x)\n",
    "        x = Reshape((self.n_embedding_dim,))(x)\n",
    "\n",
    "        return x\n",
    "\n",
    "\n",
    "def Recommender(n_users, n_rests, n_embedding_dim, min_rating, max_rating):\n",
    "    user = Input(shape=(1,))\n",
    "    u = EmbeddingLayer(n_users, n_embedding_dim)(user)\n",
    "    ub = EmbeddingLayer(n_users, 1)(user)  # bias\n",
    "\n",
    "    restaurant = Input(shape=(1,))\n",
    "    m = EmbeddingLayer(n_rests, n_embedding_dim)(restaurant)\n",
    "    mb = EmbeddingLayer(n_rests, 1)(restaurant)  # bias\n",
    "\n",
    "    x = Dot(axes=1)([u, m]) # Dot product between vector of user and vector of restaurant\n",
    "    x = Add()([x, ub, mb]) # Adding both bias vectors\n",
    "    x = Activation(\"sigmoid\")(x)\n",
    "    x = Lambda(lambda x: x * (max_rating - min_rating) + min_rating)(x) # Scaling\n",
    "\n",
    "    model = Model(inputs=[user, restaurant], outputs=x) # Creating the model and specifying input and output\n",
    "    opt = Adam(learning_rate=0.001) # Optimizer algorithm and its learning rate\n",
    "    model.compile(loss=\"mean_squared_error\", optimizer=opt) # compiling model and specifying loss function\n",
    "\n",
    "    return model"
   ]
  },
  {
   "cell_type": "code",
   "execution_count": 11,
   "metadata": {},
   "outputs": [
    {
     "name": "stdout",
     "output_type": "stream",
     "text": [
      "Model: \"model\"\n",
      "__________________________________________________________________________________________________\n",
      "Layer (type)                    Output Shape         Param #     Connected to                     \n",
      "==================================================================================================\n",
      "input_1 (InputLayer)            [(None, 1)]          0                                            \n",
      "__________________________________________________________________________________________________\n",
      "input_2 (InputLayer)            [(None, 1)]          0                                            \n",
      "__________________________________________________________________________________________________\n",
      "embedding (Embedding)           (None, 1, 50)        259300      input_1[0][0]                    \n",
      "__________________________________________________________________________________________________\n",
      "embedding_2 (Embedding)         (None, 1, 50)        100200      input_2[0][0]                    \n",
      "__________________________________________________________________________________________________\n",
      "reshape (Reshape)               (None, 50)           0           embedding[0][0]                  \n",
      "__________________________________________________________________________________________________\n",
      "reshape_2 (Reshape)             (None, 50)           0           embedding_2[0][0]                \n",
      "__________________________________________________________________________________________________\n",
      "embedding_1 (Embedding)         (None, 1, 1)         5186        input_1[0][0]                    \n",
      "__________________________________________________________________________________________________\n",
      "embedding_3 (Embedding)         (None, 1, 1)         2004        input_2[0][0]                    \n",
      "__________________________________________________________________________________________________\n",
      "dot (Dot)                       (None, 1)            0           reshape[0][0]                    \n",
      "                                                                 reshape_2[0][0]                  \n",
      "__________________________________________________________________________________________________\n",
      "reshape_1 (Reshape)             (None, 1)            0           embedding_1[0][0]                \n",
      "__________________________________________________________________________________________________\n",
      "reshape_3 (Reshape)             (None, 1)            0           embedding_3[0][0]                \n",
      "__________________________________________________________________________________________________\n",
      "add (Add)                       (None, 1)            0           dot[0][0]                        \n",
      "                                                                 reshape_1[0][0]                  \n",
      "                                                                 reshape_3[0][0]                  \n",
      "__________________________________________________________________________________________________\n",
      "activation (Activation)         (None, 1)            0           add[0][0]                        \n",
      "__________________________________________________________________________________________________\n",
      "lambda (Lambda)                 (None, 1)            0           activation[0][0]                 \n",
      "==================================================================================================\n",
      "Total params: 366,690\n",
      "Trainable params: 366,690\n",
      "Non-trainable params: 0\n",
      "__________________________________________________________________________________________________\n"
     ]
    }
   ],
   "source": [
    "keras_model = Recommender(n_users, n_rests, n_embedding_dim, min_rating, max_rating)\n",
    "keras_model.summary()"
   ]
  },
  {
   "cell_type": "code",
   "execution_count": 12,
   "metadata": {},
   "outputs": [
    {
     "data": {
      "image/png": "[encoded data removed]",
      "text/plain": [
       "<IPython.core.display.Image object>"
      ]
     },
     "execution_count": 12,
     "metadata": {},
     "output_type": "execute_result"
    }
   ],
   "source": [
    "# Plot Model\n",
    "from keras.utils.vis_utils import plot_model\n",
    "\n",
    "plot_model(keras_model, show_shapes=True)\n"
   ]
  },
  {
   "cell_type": "markdown",
   "metadata": {},
   "source": [
    "Fit / Train"
   ]
  },
  {
   "cell_type": "code",
   "execution_count": 15,
   "metadata": {},
   "outputs": [
    {
     "name": "stdout",
     "output_type": "stream",
     "text": [
      "Epoch 1/20\n",
      "145/145 [==============================] - 8s 26ms/step - loss: 2.4149 - val_loss: 2.3560\n",
      "Epoch 2/20\n",
      "145/145 [==============================] - 14s 94ms/step - loss: 2.2915 - val_loss: 2.3011\n",
      "Epoch 3/20\n",
      "145/145 [==============================] - 3s 18ms/step - loss: 2.1200 - val_loss: 2.2516\n",
      "Epoch 4/20\n",
      "145/145 [==============================] - 2s 17ms/step - loss: 1.8646 - val_loss: 2.2093\n",
      "Epoch 5/20\n",
      "145/145 [==============================] - 3s 20ms/step - loss: 1.5367 - val_loss: 2.1768\n",
      "Epoch 6/20\n",
      "145/145 [==============================] - 2s 17ms/step - loss: 1.1945 - val_loss: 2.1546\n",
      "Epoch 7/20\n",
      "145/145 [==============================] - 2s 16ms/step - loss: 0.8933 - val_loss: 2.1418\n",
      "Epoch 8/20\n",
      "145/145 [==============================] - 3s 19ms/step - loss: 0.6561 - val_loss: 2.1362\n",
      "Epoch 9/20\n",
      "145/145 [==============================] - 2s 13ms/step - loss: 0.4817 - val_loss: 2.1348\n",
      "Epoch 10/20\n",
      "145/145 [==============================] - 2s 13ms/step - loss: 0.3581 - val_loss: 2.1358\n",
      "Epoch 11/20\n",
      "145/145 [==============================] - 3s 18ms/step - loss: 0.2714 - val_loss: 2.1389\n",
      "Epoch 12/20\n",
      "145/145 [==============================] - 2s 17ms/step - loss: 0.2105 - val_loss: 2.1422ETA: 0s - l\n",
      "Epoch 13/20\n",
      "145/145 [==============================] - 2s 16ms/step - loss: 0.1671 - val_loss: 2.1464\n",
      "Epoch 14/20\n",
      "145/145 [==============================] - 2s 14ms/step - loss: 0.1354 - val_loss: 2.1502\n",
      "Epoch 15/20\n",
      "145/145 [==============================] - 3s 24ms/step - loss: 0.1120 - val_loss: 2.1544A: 0s - \n",
      "Epoch 16/20\n",
      "145/145 [==============================] - 6s 43ms/step - loss: 0.0943 - val_loss: 2.1581\n",
      "Epoch 17/20\n",
      "145/145 [==============================] - 2s 15ms/step - loss: 0.0806 - val_loss: 2.1624\n",
      "Epoch 18/20\n",
      "145/145 [==============================] - 2s 13ms/step - loss: 0.0699 - val_loss: 2.1656\n",
      "Epoch 19/20\n",
      "145/145 [==============================] - 2s 15ms/step - loss: 0.0613 - val_loss: 2.1699\n",
      "Epoch 20/20\n",
      "145/145 [==============================] - 2s 15ms/step - loss: 0.0543 - val_loss: 2.1732\n"
     ]
    }
   ],
   "source": [
    "# Fitting the model, choosing batch size, number of epochs, and test data for validation\n",
    "history = keras_model.fit(\n",
    "    x=X_train_array,\n",
    "    y=y_train_keras,\n",
    "    batch_size=64,\n",
    "    epochs=20,\n",
    "    verbose=1,\n",
    "    validation_data=(\n",
    "        X_val_array,\n",
    "        y_val_keras,\n",
    "    ),\n",
    ")"
   ]
  },
  {
   "cell_type": "markdown",
   "metadata": {},
   "source": [
    "Evaluation"
   ]
  },
  {
   "cell_type": "code",
   "execution_count": 16,
   "metadata": {},
   "outputs": [
    {
     "name": "stdout",
     "output_type": "stream",
     "text": [
      "73/73 [==============================] - 1s 14ms/step - loss: 2.1732\n",
      "MSE:\n",
      " 2.173236131668091\n"
     ]
    }
   ],
   "source": [
    "# Show Error Amount\n",
    "mse_test = keras_model.evaluate(X_val_array, y_val_keras)\n",
    "print(f\"MSE:\\n {mse_test}\")"
   ]
  },
  {
   "cell_type": "markdown",
   "metadata": {},
   "source": [
    "Prediction"
   ]
  },
  {
   "cell_type": "code",
   "execution_count": 17,
   "metadata": {},
   "outputs": [
    {
     "data": {
      "text/plain": [
       "array([[4.0734763],\n",
       "       [3.2185113]], dtype=float32)"
      ]
     },
     "execution_count": 17,
     "metadata": {},
     "output_type": "execute_result"
    }
   ],
   "source": [
    "# Prediction\n",
    "predictions = keras_model.predict(X_val_array)\n",
    "predictions[0:2]"
   ]
  },
  {
   "cell_type": "markdown",
   "metadata": {},
   "source": [
    "Examine Predictions"
   ]
  },
  {
   "cell_type": "code",
   "execution_count": 18,
   "metadata": {},
   "outputs": [
    {
     "data": {
      "text/html": [
       "<div>\n",
       "<style scoped>\n",
       "    .dataframe tbody tr th:only-of-type {\n",
       "        vertical-align: middle;\n",
       "    }\n",
       "\n",
       "    .dataframe tbody tr th {\n",
       "        vertical-align: top;\n",
       "    }\n",
       "\n",
       "    .dataframe thead th {\n",
       "        text-align: right;\n",
       "    }\n",
       "</style>\n",
       "<table border=\"1\" class=\"dataframe\">\n",
       "  <thead>\n",
       "    <tr style=\"text-align: right;\">\n",
       "      <th></th>\n",
       "      <th>user</th>\n",
       "      <th>business</th>\n",
       "      <th>stars</th>\n",
       "      <th>predictions</th>\n",
       "    </tr>\n",
       "  </thead>\n",
       "  <tbody>\n",
       "    <tr>\n",
       "      <th>0</th>\n",
       "      <td>2068</td>\n",
       "      <td>118</td>\n",
       "      <td>4.0</td>\n",
       "      <td>4.073476</td>\n",
       "    </tr>\n",
       "    <tr>\n",
       "      <th>1</th>\n",
       "      <td>1672</td>\n",
       "      <td>1293</td>\n",
       "      <td>5.0</td>\n",
       "      <td>3.218511</td>\n",
       "    </tr>\n",
       "    <tr>\n",
       "      <th>2</th>\n",
       "      <td>1196</td>\n",
       "      <td>235</td>\n",
       "      <td>3.0</td>\n",
       "      <td>2.917374</td>\n",
       "    </tr>\n",
       "    <tr>\n",
       "      <th>3</th>\n",
       "      <td>3377</td>\n",
       "      <td>744</td>\n",
       "      <td>3.0</td>\n",
       "      <td>2.549318</td>\n",
       "    </tr>\n",
       "    <tr>\n",
       "      <th>4</th>\n",
       "      <td>2932</td>\n",
       "      <td>291</td>\n",
       "      <td>4.0</td>\n",
       "      <td>3.520356</td>\n",
       "    </tr>\n",
       "  </tbody>\n",
       "</table>\n",
       "</div>"
      ],
      "text/plain": [
       "   user  business  stars  predictions\n",
       "0  2068       118    4.0     4.073476\n",
       "1  1672      1293    5.0     3.218511\n",
       "2  1196       235    3.0     2.917374\n",
       "3  3377       744    3.0     2.549318\n",
       "4  2932       291    4.0     3.520356"
      ]
     },
     "execution_count": 18,
     "metadata": {},
     "output_type": "execute_result"
    }
   ],
   "source": [
    "# create table adding prediction results as a column\n",
    "df_test = pd.DataFrame(X_val_keras[:,0])\n",
    "df_test.rename(columns={0: \"user\"}, inplace=True)\n",
    "df_test['business'] = X_val_keras[:,1]\n",
    "df_test['stars'] = y_val_keras\n",
    "df_test[\"predictions\"] = predictions\n",
    "df_test.head()"
   ]
  },
  {
   "cell_type": "code",
   "execution_count": 22,
   "metadata": {},
   "outputs": [
    {
     "data": {
      "image/png": "[encoded data removed]",
      "text/plain": [
       "<Figure size 576x432 with 1 Axes>"
      ]
     },
     "metadata": {},
     "output_type": "display_data"
    }
   ],
   "source": [
    "# Plotting the distribution of actual and predicted stars\n",
    "import matplotlib.pyplot as plt\n",
    "import seaborn as sns\n",
    "values, counts = np.unique(df_test['stars'], return_counts=True)\n",
    "\n",
    "plt.figure(figsize=(8,6))\n",
    "plt.bar(values, counts, tick_label=['1','2','3','4','5'], label='true value')\n",
    "plt.hist(predictions, color='orange', label='predicted value')\n",
    "plt.xlabel(\"Ratings\")\n",
    "plt.ylabel(\"Frequency\")\n",
    "plt.title(\"Ratings Histogram\")\n",
    "plt.legend()\n",
    "plt.show()\n",
    "\n",
    "# For 2 Dimensional Embedding space all predictions are just around 3, which gives big error."
   ]
  },
  {
   "cell_type": "markdown",
   "metadata": {},
   "source": [
    "Learning Curves"
   ]
  },
  {
   "cell_type": "code",
   "execution_count": 23,
   "metadata": {},
   "outputs": [
    {
     "data": {
      "text/plain": [
       "<matplotlib.legend.Legend at 0x1f90c6e2160>"
      ]
     },
     "execution_count": 23,
     "metadata": {},
     "output_type": "execute_result"
    },
    {
     "data": {
      "image/png": "[encoded data removed]",
      "text/plain": [
       "<Figure size 432x288 with 1 Axes>"
      ]
     },
     "metadata": {},
     "output_type": "display_data"
    }
   ],
   "source": [
    "# Learning Curves\n",
    "df = pd.DataFrame(history.history)\n",
    "\n",
    "fig = plt.figure()\n",
    "ax = fig.add_subplot()\n",
    "ax.plot(df.index, df[\"loss\"], label=\"training_loss\")\n",
    "ax.plot(df.index, df[\"val_loss\"], label=\"val_loss\")\n",
    "ax.legend()"
   ]
  },
  {
   "cell_type": "markdown",
   "metadata": {},
   "source": [
    "Result"
   ]
  },
  {
   "cell_type": "markdown",
   "metadata": {},
   "source": [
    "Adding embedding dimensions to 50 seems that didnt help much, since validation error is higher an there seems to be the overfitting after 8 epochs."
   ]
  }
 ],
 "metadata": {
  "kernelspec": {
   "display_name": "Python 3.9.7 64-bit",
   "language": "python",
   "name": "python3"
  },
  "language_info": {
   "codemirror_mode": {
    "name": "ipython",
    "version": 3
   },
   "file_extension": ".py",
   "mimetype": "text/x-python",
   "name": "python",
   "nbconvert_exporter": "python",
   "pygments_lexer": "ipython3",
   "version": "3.9.7"
  },
  "vscode": {
   "interpreter": {
    "hash": "42bee644dc9aab67352eb55cbd080121f45d4a40e193d42f9fa889f859d4be75"
   }
  }
 },
 "nbformat": 4,
 "nbformat_minor": 2
}
