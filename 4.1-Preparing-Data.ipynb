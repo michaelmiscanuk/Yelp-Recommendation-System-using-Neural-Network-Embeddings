{
 "cells": [
  {
   "cell_type": "markdown",
   "metadata": {},
   "source": [
    "# Prepare the Data\n",
    "___"
   ]
  },
  {
   "cell_type": "markdown",
   "metadata": {},
   "source": [
    " - Work on copies of the data (keep the original dataset intact).\n",
    " - Write functions for all data transformations you apply, for five reasons:\n",
    "    -  So you can easily prepare the data the next time you get a fresh dataset\n",
    "    -  So you can apply these transformations in future projects\n",
    "    -  To clean and prepare the test set\n",
    "    -  To clean and prepare new data instances once your solution is live\n",
    "    -  To make it easy to treat your preparation choices as hyperparameters\n",
    " - Data cleaning:\n",
    "    -  Fix or remove outliers (optional).\n",
    "    -  Fill in missing values (e.g., with zero, mean, median...) or drop their rows (or columns).\n",
    " - Feature selection (optional):\n",
    "   -  Drop the attributes that provide no useful information for the task.\n",
    " - Feature engineering, where appropriate:\n",
    "   -  Discretize continuous features.\n",
    "   -  Decompose features (e.g., categorical, date/time, etc.).\n",
    "   -  Add promising transformations of features (e.g., log(x), sqrt(x), x^2, etc.).\n",
    "   -  Aggregate features into promising new features.\n",
    " - Feature scaling:\n",
    "   -  Standardize or normalize features."
   ]
  },
  {
   "cell_type": "markdown",
   "metadata": {},
   "source": [
    "---"
   ]
  },
  {
   "cell_type": "code",
   "execution_count": 2,
   "metadata": {},
   "outputs": [],
   "source": [
    "# Import Libraries\n",
    "import pandas as pd\n",
    "import time\n",
    "import numpy as np\n",
    "\n",
    "from sklearn.preprocessing import LabelEncoder\n",
    "\n",
    "# Set printing in non scientific notation\n",
    "np.set_printoptions(suppress=True)"
   ]
  },
  {
   "cell_type": "code",
   "execution_count": 3,
   "metadata": {},
   "outputs": [
    {
     "name": "stdout",
     "output_type": "stream",
     "text": [
      "Took 3.6074986457824707 s\n"
     ]
    }
   ],
   "source": [
    "# Import Data\n",
    "start_time = time.time()\n",
    "\n",
    "business = pd.read_csv(\"../archive/train_business.csv\")\n",
    "reviews = pd.read_csv(\"../archive/train_reviews.csv\", nrows=100000) # sampling by taking first 1M rows, otherwise need a lot of RAM\n",
    "\n",
    "end_time = time.time()\n",
    "print(\"Took\", end_time - start_time, \"s\")\n",
    "\n",
    "\n",
    "# Businesses in Las Vegas and currently open business\n",
    "city = business[(business[\"city\"] == \"Las Vegas\") & (business[\"is_open\"] == 1)]\n",
    "las_vegas = city[[\"business_id\", \"name\", \"address\", \"categories\", \"stars\"]]"
   ]
  },
  {
   "cell_type": "code",
   "execution_count": 4,
   "metadata": {},
   "outputs": [
    {
     "data": {
      "text/html": [
       "<div>\n",
       "<style scoped>\n",
       "    .dataframe tbody tr th:only-of-type {\n",
       "        vertical-align: middle;\n",
       "    }\n",
       "\n",
       "    .dataframe tbody tr th {\n",
       "        vertical-align: top;\n",
       "    }\n",
       "\n",
       "    .dataframe thead th {\n",
       "        text-align: right;\n",
       "    }\n",
       "</style>\n",
       "<table border=\"1\" class=\"dataframe\">\n",
       "  <thead>\n",
       "    <tr style=\"text-align: right;\">\n",
       "      <th></th>\n",
       "      <th>user_id</th>\n",
       "      <th>business_id</th>\n",
       "      <th>stars</th>\n",
       "      <th>date</th>\n",
       "      <th>name</th>\n",
       "      <th>address</th>\n",
       "    </tr>\n",
       "  </thead>\n",
       "  <tbody>\n",
       "    <tr>\n",
       "      <th>0</th>\n",
       "      <td>nOTl4aPC4tKHK35T3bNauQ</td>\n",
       "      <td>xVEtGucSRLk5pxxN0t4i6g</td>\n",
       "      <td>5</td>\n",
       "      <td>2012-08-23</td>\n",
       "      <td>\"Eiffel Tower\"</td>\n",
       "      <td>\"3655 Las Vegas Blvd S\"</td>\n",
       "    </tr>\n",
       "    <tr>\n",
       "      <th>1</th>\n",
       "      <td>l0-VQ8nA_oijpKlRB7dkow</td>\n",
       "      <td>xVEtGucSRLk5pxxN0t4i6g</td>\n",
       "      <td>4</td>\n",
       "      <td>2010-02-11</td>\n",
       "      <td>\"Eiffel Tower\"</td>\n",
       "      <td>\"3655 Las Vegas Blvd S\"</td>\n",
       "    </tr>\n",
       "    <tr>\n",
       "      <th>2</th>\n",
       "      <td>JlwWHBFT76iSJe5mWIcZ4A</td>\n",
       "      <td>xVEtGucSRLk5pxxN0t4i6g</td>\n",
       "      <td>4</td>\n",
       "      <td>2015-03-23</td>\n",
       "      <td>\"Eiffel Tower\"</td>\n",
       "      <td>\"3655 Las Vegas Blvd S\"</td>\n",
       "    </tr>\n",
       "    <tr>\n",
       "      <th>3</th>\n",
       "      <td>6YYpJ59jfFCUHkGOpu2NTA</td>\n",
       "      <td>xVEtGucSRLk5pxxN0t4i6g</td>\n",
       "      <td>4</td>\n",
       "      <td>2015-08-07</td>\n",
       "      <td>\"Eiffel Tower\"</td>\n",
       "      <td>\"3655 Las Vegas Blvd S\"</td>\n",
       "    </tr>\n",
       "    <tr>\n",
       "      <th>4</th>\n",
       "      <td>wU3hkI9BFVckpbhd091sVA</td>\n",
       "      <td>xVEtGucSRLk5pxxN0t4i6g</td>\n",
       "      <td>5</td>\n",
       "      <td>2010-08-24</td>\n",
       "      <td>\"Eiffel Tower\"</td>\n",
       "      <td>\"3655 Las Vegas Blvd S\"</td>\n",
       "    </tr>\n",
       "    <tr>\n",
       "      <th>...</th>\n",
       "      <td>...</td>\n",
       "      <td>...</td>\n",
       "      <td>...</td>\n",
       "      <td>...</td>\n",
       "      <td>...</td>\n",
       "      <td>...</td>\n",
       "    </tr>\n",
       "    <tr>\n",
       "      <th>11586</th>\n",
       "      <td>oNIaAW9_L7R3IyRrtpU86g</td>\n",
       "      <td>7njZaRjDXi8anBaGlGQu4g</td>\n",
       "      <td>1</td>\n",
       "      <td>2015-09-25</td>\n",
       "      <td>\"The Lodge Cactus\"</td>\n",
       "      <td>\"4660 W Cactus Ave\"</td>\n",
       "    </tr>\n",
       "    <tr>\n",
       "      <th>11587</th>\n",
       "      <td>W4Ha5StQvff-gz81imCR9A</td>\n",
       "      <td>97TVQZZo_2nMDTeWvqfXXg</td>\n",
       "      <td>1</td>\n",
       "      <td>2011-11-15</td>\n",
       "      <td>\"Ciao Ciao Cafe &amp; Bar\"</td>\n",
       "      <td>\"3500 Las Vegas Blvd S\"</td>\n",
       "    </tr>\n",
       "    <tr>\n",
       "      <th>11588</th>\n",
       "      <td>Z0GA65zCMI4ska4iHRr8Bg</td>\n",
       "      <td>U73q64yVTVTKM0RgF8pIag</td>\n",
       "      <td>5</td>\n",
       "      <td>2014-08-02</td>\n",
       "      <td>\"Benny's Smokin BBQ and Brews\"</td>\n",
       "      <td>\"128 E Fremont St\"</td>\n",
       "    </tr>\n",
       "    <tr>\n",
       "      <th>11589</th>\n",
       "      <td>Z0GA65zCMI4ska4iHRr8Bg</td>\n",
       "      <td>KJ6DuC0Jve9hAtzM2SGNOQ</td>\n",
       "      <td>2</td>\n",
       "      <td>2017-03-30</td>\n",
       "      <td>\"Viva El Taco\"</td>\n",
       "      <td>\"11 N Lamb Blvd\"</td>\n",
       "    </tr>\n",
       "    <tr>\n",
       "      <th>11590</th>\n",
       "      <td>Z0GA65zCMI4ska4iHRr8Bg</td>\n",
       "      <td>D6iaNp68eH0LFx5H1vWBCQ</td>\n",
       "      <td>4</td>\n",
       "      <td>2013-08-25</td>\n",
       "      <td>\"Panda Express\"</td>\n",
       "      <td>\"1263 E Silverado Ranch Blvd\"</td>\n",
       "    </tr>\n",
       "  </tbody>\n",
       "</table>\n",
       "<p>11591 rows × 6 columns</p>\n",
       "</div>"
      ],
      "text/plain": [
       "                      user_id             business_id  stars        date  \\\n",
       "0      nOTl4aPC4tKHK35T3bNauQ  xVEtGucSRLk5pxxN0t4i6g      5  2012-08-23   \n",
       "1      l0-VQ8nA_oijpKlRB7dkow  xVEtGucSRLk5pxxN0t4i6g      4  2010-02-11   \n",
       "2      JlwWHBFT76iSJe5mWIcZ4A  xVEtGucSRLk5pxxN0t4i6g      4  2015-03-23   \n",
       "3      6YYpJ59jfFCUHkGOpu2NTA  xVEtGucSRLk5pxxN0t4i6g      4  2015-08-07   \n",
       "4      wU3hkI9BFVckpbhd091sVA  xVEtGucSRLk5pxxN0t4i6g      5  2010-08-24   \n",
       "...                       ...                     ...    ...         ...   \n",
       "11586  oNIaAW9_L7R3IyRrtpU86g  7njZaRjDXi8anBaGlGQu4g      1  2015-09-25   \n",
       "11587  W4Ha5StQvff-gz81imCR9A  97TVQZZo_2nMDTeWvqfXXg      1  2011-11-15   \n",
       "11588  Z0GA65zCMI4ska4iHRr8Bg  U73q64yVTVTKM0RgF8pIag      5  2014-08-02   \n",
       "11589  Z0GA65zCMI4ska4iHRr8Bg  KJ6DuC0Jve9hAtzM2SGNOQ      2  2017-03-30   \n",
       "11590  Z0GA65zCMI4ska4iHRr8Bg  D6iaNp68eH0LFx5H1vWBCQ      4  2013-08-25   \n",
       "\n",
       "                                 name                        address  \n",
       "0                      \"Eiffel Tower\"        \"3655 Las Vegas Blvd S\"  \n",
       "1                      \"Eiffel Tower\"        \"3655 Las Vegas Blvd S\"  \n",
       "2                      \"Eiffel Tower\"        \"3655 Las Vegas Blvd S\"  \n",
       "3                      \"Eiffel Tower\"        \"3655 Las Vegas Blvd S\"  \n",
       "4                      \"Eiffel Tower\"        \"3655 Las Vegas Blvd S\"  \n",
       "...                               ...                            ...  \n",
       "11586              \"The Lodge Cactus\"            \"4660 W Cactus Ave\"  \n",
       "11587          \"Ciao Ciao Cafe & Bar\"        \"3500 Las Vegas Blvd S\"  \n",
       "11588  \"Benny's Smokin BBQ and Brews\"             \"128 E Fremont St\"  \n",
       "11589                  \"Viva El Taco\"               \"11 N Lamb Blvd\"  \n",
       "11590                 \"Panda Express\"  \"1263 E Silverado Ranch Blvd\"  \n",
       "\n",
       "[11591 rows x 6 columns]"
      ]
     },
     "execution_count": 4,
     "metadata": {},
     "output_type": "execute_result"
    }
   ],
   "source": [
    "# Getting just Restaurants\n",
    "restaurants_only = las_vegas[\n",
    "    las_vegas[\"categories\"].str.contains(\"Restaurant.*\") == True\n",
    "].reset_index()\n",
    "\n",
    "# pull out names and addresses of the restaurants from restaurants_only table\n",
    "restaurants = restaurants_only[[\"business_id\", \"name\", \"address\"]]\n",
    "\n",
    "\n",
    "# pull out needed columns from review table\n",
    "df_review = reviews[[\"user_id\", \"business_id\", \"stars\", \"date\"]]\n",
    "\n",
    "\n",
    "# combine df_review and restaurant table\n",
    "combined_business_data = pd.merge(df_review, restaurants, on=\"business_id\")\n",
    "combined_business_data"
   ]
  },
  {
   "cell_type": "markdown",
   "metadata": {},
   "source": [
    "Label Encoding Users and Restaurants"
   ]
  },
  {
   "cell_type": "code",
   "execution_count": 5,
   "metadata": {},
   "outputs": [
    {
     "data": {
      "text/html": [
       "<div>\n",
       "<style scoped>\n",
       "    .dataframe tbody tr th:only-of-type {\n",
       "        vertical-align: middle;\n",
       "    }\n",
       "\n",
       "    .dataframe tbody tr th {\n",
       "        vertical-align: top;\n",
       "    }\n",
       "\n",
       "    .dataframe thead th {\n",
       "        text-align: right;\n",
       "    }\n",
       "</style>\n",
       "<table border=\"1\" class=\"dataframe\">\n",
       "  <thead>\n",
       "    <tr style=\"text-align: right;\">\n",
       "      <th></th>\n",
       "      <th>user_id</th>\n",
       "      <th>business_id</th>\n",
       "      <th>stars</th>\n",
       "      <th>date</th>\n",
       "      <th>name</th>\n",
       "      <th>address</th>\n",
       "      <th>user</th>\n",
       "      <th>business</th>\n",
       "    </tr>\n",
       "  </thead>\n",
       "  <tbody>\n",
       "    <tr>\n",
       "      <th>0</th>\n",
       "      <td>nOTl4aPC4tKHK35T3bNauQ</td>\n",
       "      <td>xVEtGucSRLk5pxxN0t4i6g</td>\n",
       "      <td>5</td>\n",
       "      <td>2012-08-23</td>\n",
       "      <td>\"Eiffel Tower\"</td>\n",
       "      <td>\"3655 Las Vegas Blvd S\"</td>\n",
       "      <td>4189</td>\n",
       "      <td>1920</td>\n",
       "    </tr>\n",
       "    <tr>\n",
       "      <th>1</th>\n",
       "      <td>l0-VQ8nA_oijpKlRB7dkow</td>\n",
       "      <td>xVEtGucSRLk5pxxN0t4i6g</td>\n",
       "      <td>4</td>\n",
       "      <td>2010-02-11</td>\n",
       "      <td>\"Eiffel Tower\"</td>\n",
       "      <td>\"3655 Las Vegas Blvd S\"</td>\n",
       "      <td>3989</td>\n",
       "      <td>1920</td>\n",
       "    </tr>\n",
       "  </tbody>\n",
       "</table>\n",
       "</div>"
      ],
      "text/plain": [
       "                  user_id             business_id  stars        date  \\\n",
       "0  nOTl4aPC4tKHK35T3bNauQ  xVEtGucSRLk5pxxN0t4i6g      5  2012-08-23   \n",
       "1  l0-VQ8nA_oijpKlRB7dkow  xVEtGucSRLk5pxxN0t4i6g      4  2010-02-11   \n",
       "\n",
       "             name                  address  user  business  \n",
       "0  \"Eiffel Tower\"  \"3655 Las Vegas Blvd S\"  4189      1920  \n",
       "1  \"Eiffel Tower\"  \"3655 Las Vegas Blvd S\"  3989      1920  "
      ]
     },
     "execution_count": 5,
     "metadata": {},
     "output_type": "execute_result"
    }
   ],
   "source": [
    "# Initialize Label Encoder for Users\n",
    "user_encode = LabelEncoder()\n",
    "\n",
    "# Add column with Label Encoded Users\n",
    "combined_business_data[\"user\"] = user_encode.fit_transform(\n",
    "    combined_business_data[\"user_id\"].values\n",
    ")\n",
    "\n",
    "# Initialize Label Encoder for Restaurants\n",
    "item_encode = LabelEncoder()\n",
    "\n",
    "# Add column with Label Encoded Restaurants\n",
    "combined_business_data[\"business\"] = item_encode.fit_transform(\n",
    "    combined_business_data[\"business_id\"].values\n",
    ")\n",
    "combined_business_data.head(2)"
   ]
  },
  {
   "cell_type": "code",
   "execution_count": 6,
   "metadata": {},
   "outputs": [],
   "source": [
    "# Convert Stars to Float\n",
    "combined_business_data[\"stars\"] = combined_business_data[\n",
    "    \"stars\"\n",
    "].values.astype(np.float32)"
   ]
  },
  {
   "cell_type": "code",
   "execution_count": 7,
   "metadata": {},
   "outputs": [
    {
     "name": "stdout",
     "output_type": "stream",
     "text": [
      "<class 'pandas.core.frame.DataFrame'>\n",
      "Int64Index: 11591 entries, 0 to 11590\n",
      "Data columns (total 8 columns):\n",
      " #   Column       Non-Null Count  Dtype  \n",
      "---  ------       --------------  -----  \n",
      " 0   user_id      11591 non-null  object \n",
      " 1   business_id  11591 non-null  object \n",
      " 2   stars        11591 non-null  float32\n",
      " 3   date         11591 non-null  object \n",
      " 4   name         11591 non-null  object \n",
      " 5   address      11591 non-null  object \n",
      " 6   user         11591 non-null  int32  \n",
      " 7   business     11591 non-null  int32  \n",
      "dtypes: float32(1), int32(2), object(5)\n",
      "memory usage: 679.2+ KB\n"
     ]
    }
   ],
   "source": [
    "# Check\n",
    "combined_business_data.info()"
   ]
  },
  {
   "cell_type": "code",
   "execution_count": 8,
   "metadata": {},
   "outputs": [
    {
     "data": {
      "text/html": [
       "<div>\n",
       "<style scoped>\n",
       "    .dataframe tbody tr th:only-of-type {\n",
       "        vertical-align: middle;\n",
       "    }\n",
       "\n",
       "    .dataframe tbody tr th {\n",
       "        vertical-align: top;\n",
       "    }\n",
       "\n",
       "    .dataframe thead th {\n",
       "        text-align: right;\n",
       "    }\n",
       "</style>\n",
       "<table border=\"1\" class=\"dataframe\">\n",
       "  <thead>\n",
       "    <tr style=\"text-align: right;\">\n",
       "      <th></th>\n",
       "      <th>user_id</th>\n",
       "      <th>business_id</th>\n",
       "      <th>stars</th>\n",
       "      <th>date</th>\n",
       "      <th>name</th>\n",
       "      <th>address</th>\n",
       "      <th>user</th>\n",
       "      <th>business</th>\n",
       "    </tr>\n",
       "  </thead>\n",
       "  <tbody>\n",
       "    <tr>\n",
       "      <th>0</th>\n",
       "      <td>nOTl4aPC4tKHK35T3bNauQ</td>\n",
       "      <td>xVEtGucSRLk5pxxN0t4i6g</td>\n",
       "      <td>5.0</td>\n",
       "      <td>2012-08-23</td>\n",
       "      <td>\"Eiffel Tower\"</td>\n",
       "      <td>\"3655 Las Vegas Blvd S\"</td>\n",
       "      <td>4189</td>\n",
       "      <td>1920</td>\n",
       "    </tr>\n",
       "    <tr>\n",
       "      <th>1</th>\n",
       "      <td>l0-VQ8nA_oijpKlRB7dkow</td>\n",
       "      <td>xVEtGucSRLk5pxxN0t4i6g</td>\n",
       "      <td>4.0</td>\n",
       "      <td>2010-02-11</td>\n",
       "      <td>\"Eiffel Tower\"</td>\n",
       "      <td>\"3655 Las Vegas Blvd S\"</td>\n",
       "      <td>3989</td>\n",
       "      <td>1920</td>\n",
       "    </tr>\n",
       "  </tbody>\n",
       "</table>\n",
       "</div>"
      ],
      "text/plain": [
       "                  user_id             business_id  stars        date  \\\n",
       "0  nOTl4aPC4tKHK35T3bNauQ  xVEtGucSRLk5pxxN0t4i6g    5.0  2012-08-23   \n",
       "1  l0-VQ8nA_oijpKlRB7dkow  xVEtGucSRLk5pxxN0t4i6g    4.0  2010-02-11   \n",
       "\n",
       "             name                  address  user  business  \n",
       "0  \"Eiffel Tower\"  \"3655 Las Vegas Blvd S\"  4189      1920  \n",
       "1  \"Eiffel Tower\"  \"3655 Las Vegas Blvd S\"  3989      1920  "
      ]
     },
     "execution_count": 8,
     "metadata": {},
     "output_type": "execute_result"
    }
   ],
   "source": [
    "combined_business_data.head(2)"
   ]
  },
  {
   "cell_type": "code",
   "execution_count": 9,
   "metadata": {},
   "outputs": [],
   "source": [
    "# Pickle Data\n",
    "combined_business_data.to_pickle(\"combined_business_data.pkl\")"
   ]
  },
  {
   "cell_type": "code",
   "execution_count": 10,
   "metadata": {},
   "outputs": [],
   "source": [
    "# Pickle for Kaggle in protocol 4\n",
    "combined_business_data.to_pickle(\"combined_business_data_p4.pkl\", protocol=4)"
   ]
  }
 ],
 "metadata": {
  "kernelspec": {
   "display_name": "Python 3.9.7 64-bit",
   "language": "python",
   "name": "python3"
  },
  "language_info": {
   "codemirror_mode": {
    "name": "ipython",
    "version": 3
   },
   "file_extension": ".py",
   "mimetype": "text/x-python",
   "name": "python",
   "nbconvert_exporter": "python",
   "pygments_lexer": "ipython3",
   "version": "3.9.7"
  },
  "vscode": {
   "interpreter": {
    "hash": "42bee644dc9aab67352eb55cbd080121f45d4a40e193d42f9fa889f859d4be75"
   }
  }
 },
 "nbformat": 4,
 "nbformat_minor": 2
}
