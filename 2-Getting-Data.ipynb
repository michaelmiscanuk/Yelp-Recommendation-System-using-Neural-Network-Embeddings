{
 "cells": [
  {
   "cell_type": "markdown",
   "metadata": {},
   "source": [
    "# Get the Data\n",
    "___"
   ]
  },
  {
   "cell_type": "markdown",
   "metadata": {},
   "source": [
    "> ### **Note: automate as much of this as possible so you can easily get fresh data.*"
   ]
  },
  {
   "cell_type": "markdown",
   "metadata": {},
   "source": [
    "## List the data you need and how much you need."
   ]
  },
  {
   "cell_type": "markdown",
   "metadata": {},
   "source": [
    "Features needed for the problem of recommendations: user_id, business _id, user_rating, restaurant_name"
   ]
  },
  {
   "cell_type": "markdown",
   "metadata": {},
   "source": [
    "## Find and document where you can get that data."
   ]
  },
  {
   "cell_type": "markdown",
   "metadata": {},
   "source": [
    "CSV:\n",
    "    https://www.kaggle.com/datasets/yelp-dataset/yelp-dataset/versions/6\n",
    "<br>\n",
    "JSON:\n",
    "    https://www.kaggle.com/datasets/yelp-dataset/yelp-dataset/code?datasetId=10100&sortBy=dateRun&tab=profile&searchQuery=t1&language=Python&types=competitions"
   ]
  },
  {
   "cell_type": "markdown",
   "metadata": {},
   "source": [
    "## Check how much space it will take."
   ]
  },
  {
   "cell_type": "markdown",
   "metadata": {},
   "source": [
    "CSV: over 5.1 GB\n",
    "<br>\n",
    "JSON: over 8.6 GB"
   ]
  },
  {
   "cell_type": "markdown",
   "metadata": {},
   "source": [
    "## Check legal obligations, and get authorization if necessary."
   ]
  },
  {
   "cell_type": "markdown",
   "metadata": {},
   "source": [
    "/"
   ]
  },
  {
   "cell_type": "markdown",
   "metadata": {},
   "source": [
    "## Get access authorizations."
   ]
  },
  {
   "cell_type": "markdown",
   "metadata": {},
   "source": [
    "/"
   ]
  },
  {
   "cell_type": "markdown",
   "metadata": {},
   "source": [
    "## Create a workspace (with enough storage space)."
   ]
  },
  {
   "cell_type": "markdown",
   "metadata": {},
   "source": [
    "Creating python virtual environment for this project."
   ]
  },
  {
   "cell_type": "markdown",
   "metadata": {},
   "source": [
    "## Get the data."
   ]
  },
  {
   "cell_type": "markdown",
   "metadata": {},
   "source": [
    "Downloading dataset to the local environment"
   ]
  },
  {
   "cell_type": "markdown",
   "metadata": {},
   "source": [
    "## Convert the data to a format you can easily manipulate (without changing the data itself)."
   ]
  },
  {
   "cell_type": "markdown",
   "metadata": {},
   "source": [
    "Using CSV format provided here - https://www.kaggle.com/datasets/yelp-dataset/yelp-dataset/versions/6"
   ]
  },
  {
   "cell_type": "markdown",
   "metadata": {},
   "source": [
    "## Ensure sensitive information is deleted or protected (e.g. anonymized)."
   ]
  },
  {
   "cell_type": "markdown",
   "metadata": {},
   "source": [
    "/"
   ]
  },
  {
   "cell_type": "markdown",
   "metadata": {},
   "source": [
    "## Check the size and type of data (time series, sample, geographical, etc.)."
   ]
  },
  {
   "cell_type": "markdown",
   "metadata": {},
   "source": [
    " - CSV has string data types; convering during processing as necessary. \n",
    " - Ids will be label encoded starting from 1 to the number of items;\n",
    " - Ratings will be converted to a float."
   ]
  },
  {
   "cell_type": "markdown",
   "metadata": {},
   "source": [
    "## Sample a test set, put it aside, and never look at it (no data snooping!)."
   ]
  },
  {
   "cell_type": "markdown",
   "metadata": {},
   "source": [
    "---"
   ]
  },
  {
   "cell_type": "code",
   "execution_count": 1,
   "metadata": {},
   "outputs": [
    {
     "name": "stdout",
     "output_type": "stream",
     "text": [
      "Took 221.36179876327515 s\n"
     ]
    }
   ],
   "source": [
    "# Libraries\n",
    "import pandas as pd\n",
    "import numpy as np\n",
    "\n",
    "import time\n",
    "\n",
    "start_time = time.time()\n",
    "\n",
    "# Read data\n",
    "#! CAREFULL - Need around 10GB free memory\n",
    "\n",
    "business = pd.read_csv(\"../archive\\yelp_business.csv\")\n",
    "reviews = pd.read_csv(\"../archive\\yelp_review.csv\")\n",
    "\n",
    "###### --------------------------------------\n",
    "# Split Business data randomly\n",
    "business['split'] = np.random.randn(business.shape[0], 1)\n",
    "\n",
    "# 20% of data will be put aside\n",
    "msk = np.random.rand(len(business)) >= 0.2\n",
    "\n",
    "# Applying mask\n",
    "train_business = business[msk]\n",
    "test_business = business[~msk]\n",
    "\n",
    "\n",
    "###### --------------------------------------\n",
    "# Split reviews data randomly\n",
    "reviews['split'] = np.random.randn(reviews.shape[0], 1)\n",
    "\n",
    "# 20% of data will be put aside\n",
    "msk = np.random.rand(len(reviews)) >= 0.2\n",
    "\n",
    "# Applying mask\n",
    "train_reviews = reviews[msk]\n",
    "test_reviews = reviews[~msk]\n",
    "\n",
    "\n",
    "###### --------------------------------------\n",
    "# Store back to CSVs\n",
    "train_business.to_csv('../archive/train_business.csv') \n",
    "test_business.to_csv('../archive/test_business.csv') \n",
    "train_reviews.to_csv('../archive/train_reviews.csv') \n",
    "test_reviews.to_csv('../archive/test_reviews.csv') \n",
    "\n",
    "###### --------------------------------------\n",
    "# How long it took\n",
    "end_time = time.time()\n",
    "print(\"Took\", end_time - start_time, \"s\")"
   ]
  }
 ],
 "metadata": {
  "kernelspec": {
   "display_name": "Python 3.9.7 ('python_o2_ml')",
   "language": "python",
   "name": "python3"
  },
  "language_info": {
   "codemirror_mode": {
    "name": "ipython",
    "version": 3
   },
   "file_extension": ".py",
   "mimetype": "text/x-python",
   "name": "python",
   "nbconvert_exporter": "python",
   "pygments_lexer": "ipython3",
   "version": "3.9.7"
  },
  "vscode": {
   "interpreter": {
    "hash": "f0d0b9a8383731e803061aa290d76d06ca4201759bcc24e9c49ae9526db0a881"
   }
  }
 },
 "nbformat": 4,
 "nbformat_minor": 2
}
